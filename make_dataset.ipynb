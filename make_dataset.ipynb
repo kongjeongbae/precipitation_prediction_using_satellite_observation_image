{
 "cells": [
  {
   "cell_type": "code",
   "execution_count": null,
   "metadata": {},
   "outputs": [],
   "source": [
    "import numpy as np\n",
    "import os\n",
    "import pickle\n",
    "from tqdm import tqdm\n"
   ]
  },
  {
   "cell_type": "code",
   "execution_count": null,
   "metadata": {},
   "outputs": [],
   "source": [
    "import numpy as np\n",
    "import os\n",
    "import pickle\n",
    "\n",
    "dir_train = 'inputs/train/'\n",
    "dir_test = 'inputs/test/'\n",
    "\n",
    "\n",
    "# train dataset\n",
    "train = []\n",
    "train_y = []\n",
    "\n",
    "for i in os.listdir(dir_train):\n",
    "    npy = np.load(dir_train + i)\n",
    "    \n",
    "    # missing value 제거\n",
    "    if npy[:,:,-1].sum() < 0:\n",
    "        continue\n",
    "    train.append(npy[:,:,:-1])\n",
    "    train_y.append(npy[:,:,-1])\n",
    "train = np.array(train)\n",
    "train_y = np.array(train_y)\n",
    "\n",
    "with open('inputs/train.pickle', 'wb') as f:\n",
    "    pickle.dump(train, f, protocol=4)\n",
    "\n",
    "with open('inputs/train_y.pickle', 'wb') as f:\n",
    "    pickle.dump(train_y, f, protocol=4)\n",
    "\n",
    "\n"
   ]
  },
  {
   "cell_type": "code",
   "execution_count": null,
   "metadata": {},
   "outputs": [],
   "source": [
    "# test dataset\n",
    "test = []\n",
    "\n",
    "for i in os.listdir(dir_test):\n",
    "    npy = np.load(dir_test + i)\n",
    "    test.append(npy)\n",
    "test = np.array(test)\n",
    "\n",
    "with open('inputs/test.pickle', 'wb') as f:\n",
    "    pickle.dump(test, f, protocol=4)"
   ]
  },
  {
   "cell_type": "markdown",
   "metadata": {},
   "source": [
    "## Augmentation (rotation 데이터 만들기)\n",
    "- 데이터에 강수량이 존재하는 자료만 rotation 자료 만들 것 - 73000여개 중 61849개에서 비가 옴\n",
    "- 해당 사진에서 평균적으로 0.1 이상인 것만 rotation 하거나 (대회 평가에서 0.1 이상인 픽셀만 사용한다고 했음)\n",
    "- 1600픽셀 중 강수량이 0.1 이상인 픽셀이 100개 이상인 사진만 로테이션 시켜도 되는데 우선은 후자로 테스트 해보자."
   ]
  },
  {
   "cell_type": "code",
   "execution_count": null,
   "metadata": {},
   "outputs": [],
   "source": [
    "dir_train = 'inputs/train/'\n",
    "\n",
    "rot_train = []\n",
    "rot_train_y = []\n",
    "\n",
    "for i in tqdm(os.listdir(dir_train)):\n",
    "    npy = np.load(dir_train + i)\n",
    "    \n",
    "    if npy[:,:,-1].sum() < 0:\n",
    "        continue\n",
    "    \n",
    "    # 사진에서 강수량이 0.1 이상인 픽셀이 1600개중 100픽셀 이상인 사진만 로테이션 시켜보자.\n",
    "    if (npy[:,:,-1] >= 0.1).sum() > 100:\n",
    "        npy = np.rot90(npy, 2, (0,1)) # 2번째인자가 1이면 90도, 2이면 180도, 3번째 인자는 어떤 축을 잡고 돌릴것인지, 0번축, 1번축을 기준으로 돌릴것이다\n",
    "        rot_train.append(npy[:,:,:-1])\n",
    "        rot_train_y.append(npy[:,:,-1])\n",
    "    \n",
    "rot_train = np.array(rot_train)\n",
    "rot_train_y = np.array(rot_train_y)\n",
    "\n",
    "with open('inputs/rot_train.pickle', 'wb') as f:\n",
    "    pickle.dump(rot_train, f, protocol=4)\n",
    "\n",
    "with open('inputs/rot_train_y.pickle', 'wb') as f:\n",
    "    pickle.dump(rot_train_y, f, protocol=4)"
   ]
  },
  {
   "cell_type": "code",
   "execution_count": null,
   "metadata": {},
   "outputs": [],
   "source": [
    "rot_train.shape"
   ]
  },
  {
   "cell_type": "code",
   "execution_count": null,
   "metadata": {},
   "outputs": [],
   "source": []
  }
 ],
 "metadata": {
  "kernelspec": {
   "display_name": "Python 3",
   "language": "python",
   "name": "python3"
  },
  "language_info": {
   "codemirror_mode": {
    "name": "ipython",
    "version": 3
   },
   "file_extension": ".py",
   "mimetype": "text/x-python",
   "name": "python",
   "nbconvert_exporter": "python",
   "pygments_lexer": "ipython3",
   "version": "3.6.8"
  },
  "toc": {
   "base_numbering": 1,
   "nav_menu": {},
   "number_sections": false,
   "sideBar": true,
   "skip_h1_title": false,
   "title_cell": "Table of Contents",
   "title_sidebar": "Contents",
   "toc_cell": false,
   "toc_position": {},
   "toc_section_display": true,
   "toc_window_display": true
  }
 },
 "nbformat": 4,
 "nbformat_minor": 4
}
