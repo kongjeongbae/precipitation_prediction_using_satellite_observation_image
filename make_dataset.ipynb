{
 "cells": [
  {
   "cell_type": "code",
   "execution_count": null,
   "metadata": {},
   "outputs": [],
   "source": [
    "import numpy as np\n",
    "import os\n",
    "import pickle\n",
    "\n",
    "dir_train = 'inputs/train/'\n",
    "dir_test = 'inputs/test/'\n",
    "\n",
    "\n",
    "# train dataset\n",
    "train = []\n",
    "train_y = []\n",
    "\n",
    "for i in os.listdir(dir_train):\n",
    "    npy = np.load(dir_train + i)\n",
    "    \n",
    "    # missing value 제거\n",
    "    if npy[:,:,-1].sum() < 0:\n",
    "        continue\n",
    "    train.append(npy[:,:,:-1])\n",
    "    train_y.append(npy[:,:,-1])\n",
    "train = np.array(train)\n",
    "train_y = np.array(train_y)\n",
    "\n",
    "with open('inputs/train.pickle', 'wb') as f:\n",
    "    pickle.dump(train, f, protocol=4)\n",
    "\n",
    "with open('inputs/train_y.pickle', 'wb') as f:\n",
    "    pickle.dump(train_y, f, protocol=4)\n",
    "\n",
    "\n"
   ]
  },
  {
   "cell_type": "code",
   "execution_count": null,
   "metadata": {},
   "outputs": [],
   "source": [
    "# test dataset\n",
    "test = []\n",
    "\n",
    "for i in os.listdir(dir_test):\n",
    "    npy = np.load(dir_test + i)\n",
    "    test.append(npy)\n",
    "test = np.array(test)\n",
    "\n",
    "with open('inputs/test.pickle', 'wb') as f:\n",
    "    pickle.dump(test, f, protocol=4)"
   ]
  }
 ],
 "metadata": {
  "kernelspec": {
   "display_name": "Python 3",
   "language": "python",
   "name": "python3"
  },
  "language_info": {
   "codemirror_mode": {
    "name": "ipython",
    "version": 3
   },
   "file_extension": ".py",
   "mimetype": "text/x-python",
   "name": "python",
   "nbconvert_exporter": "python",
   "pygments_lexer": "ipython3",
   "version": "3.6.8"
  },
  "toc": {
   "base_numbering": 1,
   "nav_menu": {},
   "number_sections": true,
   "sideBar": true,
   "skip_h1_title": false,
   "title_cell": "Table of Contents",
   "title_sidebar": "Contents",
   "toc_cell": false,
   "toc_position": {},
   "toc_section_display": true,
   "toc_window_display": false
  }
 },
 "nbformat": 4,
 "nbformat_minor": 4
}
