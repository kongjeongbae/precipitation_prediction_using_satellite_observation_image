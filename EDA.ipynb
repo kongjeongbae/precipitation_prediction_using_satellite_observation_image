{
 "cells": [
  {
   "cell_type": "code",
   "execution_count": null,
   "metadata": {},
   "outputs": [],
   "source": [
    "import pickle\n",
    "import numpy as np\n",
    "import pandas as pd\n",
    "import gc\n"
   ]
  },
  {
   "cell_type": "code",
   "execution_count": null,
   "metadata": {},
   "outputs": [],
   "source": [
    "def rotation(data):\n",
    "    v1_m_h1 = data[:, :, 0] * np.cos(np.pi / 4) - data[:, :, 1] * np.sin(np.pi / 4)  \n",
    "    v1_p_h1 = data[:, :, 0] * np.cos(np.pi / 4) + data[:, :, 1] * np.sin(np.pi / 4)  \n",
    "    data[:, :, 0] = v1_m_h1\n",
    "    data[:, :, 1] = v1_p_h1 \n",
    "    del v1_m_h1\n",
    "    del v1_p_h1\n",
    "\n",
    "    v2_m_h2 = data[:, :, 2] * np.cos(np.pi / 4) - data[:, :, 3] * np.sin(np.pi / 4)\n",
    "    v2_p_h2 = data[:, :, 2] * np.cos(np.pi / 4) + data[:, :, 3] * np.sin(np.pi / 4)\n",
    "    data[:, :, 2] = v2_m_h2\n",
    "    data[:, :, 3] = v2_p_h2 \n",
    "    del v2_m_h2\n",
    "    del v2_p_h2\n",
    "    \n",
    "    v4_p_h4_30 = data[:, :, 5] * np.cos(np.pi / 4) + data[:, :, 6] * np.sin(np.pi / 4)\n",
    "    v4_m_h4_30 = data[:, :, 5] * np.cos(np.pi / 4) - data[:, :, 6] * np.sin(np.pi / 4)\n",
    "    data[:, :, 5] = v4_p_h4_30\n",
    "    data[:, :, 6] = v4_m_h4_30\n",
    "\n",
    "    v5_p_h5_30 = data[:, :, 7] * np.cos(np.pi / 6) + data[:, :, 8] * np.sin(np.pi / 6)\n",
    "    v5_m_h5_30 = data[:, :, 7] * np.cos(np.pi / 6) - data[:, :, 8] * np.sin(np.pi / 6)\n",
    "    data[:, :, 7] = v5_p_h5_30\n",
    "    data[:, :, 8] = v5_m_h5_30\n",
    "    \n",
    "#     v5_p_h5_30 = data[:, :, -1] * np.cos(np.pi / 4) + data[:, :, -2] * np.sin(np.pi / 4)\n",
    "#     v5_m_h5_30 = data[:, :, -1] * np.cos(np.pi / 4) - data[:, :, -2] * np.sin(np.pi / 4)\n",
    "#     data[:, :, -1] = v5_p_h5_30\n",
    "#     data[:, :, -2] = v5_m_h5_30\n",
    "    \n",
    "    del v4_p_h4_30\n",
    "    del v4_m_h4_30\n",
    "    del v5_p_h5_30\n",
    "    del v5_m_h5_30\n",
    "    \n",
    "    return data"
   ]
  },
  {
   "cell_type": "code",
   "execution_count": null,
   "metadata": {},
   "outputs": [],
   "source": [
    "import os\n",
    "import random\n",
    "\n",
    "image_dir = os.listdir('inputs/train/')"
   ]
  },
  {
   "cell_type": "code",
   "execution_count": null,
   "metadata": {
    "code_folding": [],
    "scrolled": false
   },
   "outputs": [],
   "source": [
    "image_sample = np.load(f'inputs/train/{image_dir[random.randrange(len(image_dir))]}')\n",
    "image_sample_r = rotation(image_sample)\n",
    "\n",
    "def showimg(img):\n",
    "    ch15_v = 0\n",
    "    for i in [0,2,4,5,7]:\n",
    "        ch15_v += img[:,:,i]\n",
    "    ch15_h = 0\n",
    "    for i in [1,3,6,8]:\n",
    "        ch15_h += img[:,:,i]\n",
    "    ch15_v = ch15_v.reshape(40,40,1)\n",
    "    ch15_h = ch15_h.reshape(40,40,1)\n",
    "    img = np.concatenate([img, ch15_v], -1)\n",
    "    img = np.concatenate([img, ch15_h], -1)\n",
    "    return img\n",
    "\n",
    "image_sample = showimg(image_sample)\n",
    "image_sample_r = showimg(image_sample_r)\n",
    "\n",
    "import seaborn as sns\n",
    "import matplotlib.pyplot as plt\n",
    "\n",
    "color_map = plt.cm.get_cmap('RdBu')\n",
    "color_map = color_map.reversed()\n",
    "plt.style.use('fivethirtyeight')\n",
    "plt.figure(figsize=(10, 10))\n",
    "\n",
    "for i in range(9):\n",
    "    plt.subplot(2,6,i+1)\n",
    "    plt.imshow(image_sample[:, :, i], cmap=color_map)\n",
    "\n",
    "plt.subplot(2,6,10)\n",
    "plt.imshow(image_sample[:,:,-3], cmap = color_map)\n",
    "\n",
    "plt.subplot(2,6,11)\n",
    "plt.imshow(image_sample[:,:,-2], cmap = color_map)\n",
    "\n",
    "plt.subplot(2,6,12)\n",
    "plt.imshow(image_sample[:,:,-1], cmap = color_map)\n",
    "\n",
    "plt.show()\n",
    "print()\n",
    "print()\n",
    "\n"
   ]
  },
  {
   "cell_type": "code",
   "execution_count": null,
   "metadata": {},
   "outputs": [],
   "source": [
    "color_map = plt.cm.get_cmap('RdBu')\n",
    "color_map = color_map.reversed()\n",
    "plt.style.use('fivethirtyeight')\n",
    "plt.figure(figsize=(10, 10))\n",
    "\n",
    "for i in range(9):\n",
    "    plt.subplot(2,6,i+1)\n",
    "    plt.imshow(image_sample_r[:, :, i], cmap=color_map)\n",
    "\n",
    "plt.subplot(2,6,10)\n",
    "plt.imshow(image_sample_r[:,:,-3], cmap = color_map)\n",
    "\n",
    "plt.subplot(2,6,11)\n",
    "plt.imshow(image_sample_r[:,:,-2], cmap = color_map)\n",
    "\n",
    "plt.subplot(2,6,12)\n",
    "plt.imshow(image_sample_r[:,:,-1], cmap = color_map)\n",
    "\n",
    "plt.show()\n",
    "print()\n",
    "print()"
   ]
  },
  {
   "cell_type": "code",
   "execution_count": null,
   "metadata": {},
   "outputs": [],
   "source": [
    "image_sample = np.load('inputs/train/subset_010477_03.npy')\n",
    "\n",
    "ch15_v = 0\n",
    "ch15_v += image_sample[:,:,0]\n",
    "ch15_v += image_sample[:,:,2]\n",
    "ch15_v += image_sample[:,:,4]\n",
    "ch15_v += image_sample[:,:,5]\n",
    "ch15_v += image_sample[:,:,7]\n",
    "\n",
    "ch15_h = 0\n",
    "ch15_h += image_sample[:,:,1]\n",
    "ch15_h += image_sample[:,:,3]\n",
    "ch15_h += image_sample[:,:,6]\n",
    "ch15_h += image_sample[:,:,8]\n",
    "ch15_v = ch15_v.reshape(40,40,1)\n",
    "ch15_h = ch15_h.reshape(40,40,1)\n",
    "image_sample3 = np.concatenate([image_sample, ch15_v], -1)\n",
    "image_sample3 = np.concatenate([image_sample3, ch15_h], -1)\n",
    "\n",
    "import seaborn as sns\n",
    "import matplotlib.pyplot as plt\n",
    "\n",
    "color_map = plt.cm.get_cmap('RdBu')\n",
    "color_map = color_map.reversed()\n",
    "plt.style.use('fivethirtyeight')\n",
    "plt.figure(figsize=(10, 10))\n",
    "\n",
    "for i in range(9):\n",
    "    plt.subplot(2,6,i+1)\n",
    "    plt.imshow(image_sample[:, :, i], cmap=color_map)\n",
    "\n",
    "plt.subplot(2,6,10)\n",
    "plt.imshow(image_sample[:,:,-1], cmap = color_map)\n",
    "\n",
    "plt.subplot(2,6,11)\n",
    "plt.imshow(image_sample3[:,:,-2], cmap = color_map)\n",
    "\n",
    "plt.subplot(2,6,12)\n",
    "plt.imshow(image_sample3[:,:,-1], cmap = color_map)\n",
    "\n",
    "plt.show()\n",
    "print()\n",
    "print()"
   ]
  },
  {
   "cell_type": "code",
   "execution_count": null,
   "metadata": {},
   "outputs": [],
   "source": [
    "image_sample = np.load('inputs/train/subset_010477_03.npy')\n",
    "ch15_v = 0\n",
    "ch15_v += image_sample[:,:,0]\n",
    "ch15_v += image_sample[:,:,2]\n",
    "ch15_v += image_sample[:,:,4]\n",
    "ch15_v += image_sample[:,:,5]\n",
    "ch15_v += image_sample[:,:,7]\n",
    "\n",
    "ch15_h = 0\n",
    "ch15_h += image_sample[:,:,1]\n",
    "ch15_h += image_sample[:,:,3]\n",
    "ch15_h += image_sample[:,:,6]\n",
    "ch15_h += image_sample[:,:,8]\n",
    "ch15_v = ch15_v.reshape(40,40,1)\n",
    "ch15_h = ch15_h.reshape(40,40,1)\n",
    "image_sample3 = np.concatenate([image_sample, ch15_v], -1)\n",
    "image_sample3 = np.concatenate([image_sample3, ch15_h], -1)\n",
    "image_sample3 = rotation(image_sample3)\n",
    "import seaborn as sns\n",
    "import matplotlib.pyplot as plt\n",
    "\n",
    "color_map = plt.cm.get_cmap('RdBu')\n",
    "color_map = color_map.reversed()\n",
    "plt.style.use('fivethirtyeight')\n",
    "plt.figure(figsize=(10, 10))\n",
    "\n",
    "for i in range(9):\n",
    "    plt.subplot(2,6,i+1)\n",
    "    plt.imshow(image_sample[:, :, i], cmap=color_map)\n",
    "\n",
    "plt.subplot(2,6,10)\n",
    "plt.imshow(image_sample[:,:,-1], cmap = color_map)\n",
    "\n",
    "plt.subplot(2,6,11)\n",
    "plt.imshow(image_sample3[:,:,-2], cmap = color_map)\n",
    "\n",
    "plt.subplot(2,6,12)\n",
    "plt.imshow(image_sample3[:,:,-1], cmap = color_map)\n",
    "\n",
    "plt.show()\n",
    "print()\n",
    "print()"
   ]
  },
  {
   "cell_type": "code",
   "execution_count": null,
   "metadata": {},
   "outputs": [],
   "source": [
    "import os\n",
    "img_dir = os.listdir('inputs/train')"
   ]
  },
  {
   "cell_type": "code",
   "execution_count": null,
   "metadata": {
    "scrolled": true
   },
   "outputs": [],
   "source": [
    "for i in img_dir[:20]:\n",
    "    print()\n",
    "    print()\n",
    "    image_sample = np.load(f'inputs/train/{i}')\n",
    "    ch15_v = 0\n",
    "    ch15_v += image_sample[:,:,0]\n",
    "    ch15_v += image_sample[:,:,2]\n",
    "    ch15_v += image_sample[:,:,4]\n",
    "    ch15_v += image_sample[:,:,5]\n",
    "    ch15_v += image_sample[:,:,7]\n",
    "    ch15_h = 0\n",
    "    ch15_h += image_sample[:,:,1]\n",
    "    ch15_h += image_sample[:,:,3]\n",
    "    ch15_h += image_sample[:,:,6]\n",
    "    ch15_h += image_sample[:,:,8]\n",
    "    ch15_v = ch15_v.reshape(40,40,1)\n",
    "    ch15_h = ch15_h.reshape(40,40,1)\n",
    "    image_sample3 = np.concatenate([image_sample, ch15_v], -1)\n",
    "    image_sample3 = np.concatenate([image_sample3, ch15_h], -1)\n",
    "\n",
    "    import seaborn as sns\n",
    "    import matplotlib.pyplot as plt\n",
    "\n",
    "    color_map = plt.cm.get_cmap('RdBu')\n",
    "    color_map = color_map.reversed()\n",
    "    plt.style.use('fivethirtyeight')\n",
    "    plt.figure(figsize=(10, 10))\n",
    "\n",
    "    for i in range(9):\n",
    "        plt.subplot(2,6,i+1)\n",
    "        plt.imshow(image_sample[:, :, i], cmap=color_map)\n",
    "\n",
    "    plt.subplot(2,6,10)\n",
    "    plt.imshow(image_sample[:,:,-1], cmap = color_map)\n",
    "\n",
    "    plt.subplot(2,6,11)\n",
    "    plt.imshow(image_sample3[:,:,-2], cmap = color_map)\n",
    "\n",
    "    plt.subplot(2,6,12)\n",
    "    plt.imshow(image_sample3[:,:,-1], cmap = color_map)\n",
    "\n",
    "    plt.show()\n",
    "    print()\n",
    "    print()\n",
    "\n",
    "\n",
    "    "
   ]
  },
  {
   "cell_type": "code",
   "execution_count": null,
   "metadata": {},
   "outputs": [],
   "source": [
    "image_sample = np.load('inputs/train/subset_010462_07.npy')\n",
    "ch15_v = 0\n",
    "ch15_v += image_sample[:,:,0]\n",
    "ch15_v += image_sample[:,:,2]\n",
    "ch15_v += image_sample[:,:,4]\n",
    "ch15_v += image_sample[:,:,5]\n",
    "ch15_v += image_sample[:,:,7]\n",
    "ch15_h = 0\n",
    "ch15_h += image_sample[:,:,1]\n",
    "ch15_h += image_sample[:,:,3]\n",
    "ch15_h += image_sample[:,:,6]\n",
    "ch15_h += image_sample[:,:,8]\n",
    "ch15_v = ch15_v.reshape(40,40,1)\n",
    "ch15_h = ch15_h.reshape(40,40,1)\n",
    "image_sample3 = np.concatenate([image_sample, ch15_v], -1)\n",
    "image_sample3 = np.concatenate([image_sample3, ch15_h], -1)\n",
    "\n",
    "import seaborn as sns\n",
    "import matplotlib.pyplot as plt\n",
    "\n",
    "color_map = plt.cm.get_cmap('RdBu')\n",
    "color_map = color_map.reversed()\n",
    "plt.style.use('fivethirtyeight')\n",
    "plt.figure(figsize=(10, 10))\n",
    "\n",
    "for i in range(9):\n",
    "    plt.subplot(2,6,i+1)\n",
    "    plt.imshow(image_sample[:, :, i], cmap=color_map)\n",
    "\n",
    "plt.subplot(2,6,10)\n",
    "plt.imshow(image_sample[:,:,-1], cmap = color_map)\n",
    "\n",
    "plt.subplot(2,6,11)\n",
    "plt.imshow(image_sample3[:,:,-2], cmap = color_map)\n",
    "\n",
    "plt.subplot(2,6,12)\n",
    "plt.imshow(image_sample3[:,:,-1], cmap = color_map)\n",
    "\n",
    "plt.show()\n"
   ]
  },
  {
   "cell_type": "code",
   "execution_count": null,
   "metadata": {},
   "outputs": [],
   "source": [
    "import seaborn as sns\n",
    "import matplotlib.pyplot as plt\n",
    "\n",
    "color_map = plt.cm.get_cmap('RdBu')\n",
    "color_map = color_map.reversed()\n",
    "# image_sample = np.load('inputs/train/subset_010462_02.npy')\n",
    "plt.style.use('fivethirtyeight')\n",
    "plt.figure(figsize=(30, 30))\n",
    "\n",
    "for i in range(9):\n",
    "    plt.subplot(1,10,i+1)\n",
    "    plt.imshow(image_sample2[:, :, i], cmap=color_map)\n",
    "plt.subplot(1,10,10)\n",
    "plt.imshow(image_sample2[:,:,-1], cmap = color_map)\n",
    "plt.show()"
   ]
  },
  {
   "cell_type": "code",
   "execution_count": null,
   "metadata": {},
   "outputs": [],
   "source": [
    "import seaborn as sns\n",
    "import matplotlib.pyplot as plt\n",
    "\n",
    "color_map = plt.cm.get_cmap('RdBu')\n",
    "color_map = color_map.reversed()\n",
    "# image_sample = np.load('inputs/train/subset_010462_02.npy')\n",
    "plt.style.use('fivethirtyeight')\n",
    "plt.figure(figsize=(30, 30))\n",
    "\n",
    "for i in range(9):\n",
    "    plt.subplot(1,10,i+1)\n",
    "    plt.imshow(image_sample2[:, :, i], cmap=color_map)\n",
    "plt.subplot(1,10,10)\n",
    "plt.imshow(image_sample2[:,:,-1], cmap = color_map)\n",
    "plt.show()"
   ]
  },
  {
   "cell_type": "code",
   "execution_count": null,
   "metadata": {},
   "outputs": [],
   "source": [
    "image_sample2 = rotation(image_sample)"
   ]
  },
  {
   "cell_type": "code",
   "execution_count": null,
   "metadata": {},
   "outputs": [],
   "source": []
  },
  {
   "cell_type": "code",
   "execution_count": null,
   "metadata": {},
   "outputs": [],
   "source": []
  },
  {
   "cell_type": "code",
   "execution_count": null,
   "metadata": {},
   "outputs": [],
   "source": []
  },
  {
   "cell_type": "code",
   "execution_count": null,
   "metadata": {},
   "outputs": [],
   "source": []
  },
  {
   "cell_type": "code",
   "execution_count": null,
   "metadata": {},
   "outputs": [],
   "source": [
    "\n",
    "\n",
    "with open('D:/inputs/24/train50.pickle', 'rb') as f:\n",
    "    train = pickle.load(f)\n",
    "with open('D:/inputs/24/train_y50.pickle', 'rb') as f:\n",
    "    train_y = pickle.load(f)\n",
    "train_y = train_y.reshape(train_y.shape[0],40, 40, 1)    \n",
    "with open('D:/inputs/24/test.pickle', 'rb') as f:\n",
    "    test = pickle.load(f)\n",
    "    \n"
   ]
  },
  {
   "cell_type": "code",
   "execution_count": null,
   "metadata": {},
   "outputs": [],
   "source": [
    "import numpy as np\n",
    "import os\n",
    "import pickle\n",
    "from tqdm import tqdm\n",
    "\n",
    "dir_train = 'inputs/train/'\n",
    "dir_test = 'inputs/test/'"
   ]
  },
  {
   "cell_type": "code",
   "execution_count": null,
   "metadata": {},
   "outputs": [],
   "source": [
    "def many_rain(dir_train, UPPER):\n",
    "    # UPPER 이상 강수량을 기록한 픽셀이 존재하는 사진만 골라내는 코드\n",
    "    train = []\n",
    "    train_y = []\n",
    "\n",
    "    for i in tqdm(os.listdir(dir_train)):\n",
    "        npy = np.load(dir_train + i)\n",
    "        \n",
    "        # missing value 제거\n",
    "        if npy[:,:,-1].sum() < 0:\n",
    "            continue\n",
    "        if (npy[:,:,-1] >= 0.1).sum() >= 50 and (npy[:,:,-1] >= UPPER).sum() >= 1:\n",
    "            train.append(npy[:,:,:-1])\n",
    "            train_y.append(npy[:,:,-1])\n",
    "\n",
    "    train = np.array(train)\n",
    "    train_y = np.array(train_y)\n",
    "\n",
    "    return train, train_y"
   ]
  },
  {
   "cell_type": "code",
   "execution_count": null,
   "metadata": {},
   "outputs": [],
   "source": [
    "tmp, tmp_y = many_rain(dir_train, 100)"
   ]
  },
  {
   "cell_type": "code",
   "execution_count": null,
   "metadata": {},
   "outputs": [],
   "source": [
    "len(tmp)"
   ]
  },
  {
   "cell_type": "code",
   "execution_count": null,
   "metadata": {},
   "outputs": [],
   "source": []
  },
  {
   "cell_type": "code",
   "execution_count": null,
   "metadata": {},
   "outputs": [],
   "source": []
  },
  {
   "cell_type": "code",
   "execution_count": null,
   "metadata": {},
   "outputs": [],
   "source": [
    "with open('inputs/train_100up.pickle', 'rb') as f:\n",
    "    tmp = pickle.load(f)"
   ]
  },
  {
   "cell_type": "code",
   "execution_count": null,
   "metadata": {},
   "outputs": [],
   "source": [
    "len(tmp)"
   ]
  },
  {
   "cell_type": "code",
   "execution_count": null,
   "metadata": {},
   "outputs": [],
   "source": [
    "len(train_y)"
   ]
  },
  {
   "cell_type": "code",
   "execution_count": null,
   "metadata": {},
   "outputs": [],
   "source": [
    "print(5622/30662)\n",
    "print(2779/30662)\n",
    "print(1770/30662)\n",
    "print(1286/30662)"
   ]
  },
  {
   "cell_type": "code",
   "execution_count": null,
   "metadata": {},
   "outputs": [],
   "source": [
    "50 - 5551 / 5622\n",
    "100 - 2762 / 2779\n",
    "150 - 1765 / 1770\n",
    "200 - 1284 / 1286"
   ]
  },
  {
   "cell_type": "code",
   "execution_count": null,
   "metadata": {
    "scrolled": true
   },
   "outputs": [],
   "source": [
    "k = 0\n",
    "for i in range(len(train_y)):\n",
    "    if sum(sum(train_y[i,:,:,0] > 250)) > 0:\n",
    "#         print(i)\n",
    "        k +=1\n",
    "print(k)"
   ]
  },
  {
   "cell_type": "code",
   "execution_count": null,
   "metadata": {},
   "outputs": [],
   "source": [
    "train_y[1,:,:,0] > 100"
   ]
  },
  {
   "cell_type": "code",
   "execution_count": null,
   "metadata": {},
   "outputs": [],
   "source": [
    "with open('inputs/val_index.pickle', 'rb') as f:\n",
    "    val_index = pickle.load(f)\n",
    "\n",
    "VAL_X = train[val_index].copy()\n",
    "VAL_Y = train_y[val_index].copy()"
   ]
  },
  {
   "cell_type": "code",
   "execution_count": null,
   "metadata": {},
   "outputs": [],
   "source": [
    "k = 0\n",
    "for i in range(len(VAL_Y)):\n",
    "    if sum(sum(VAL_Y[i,:,:,0] > 50)) > 0:\n",
    "#         print(i)\n",
    "        k +=1\n",
    "print(k)"
   ]
  },
  {
   "cell_type": "code",
   "execution_count": null,
   "metadata": {},
   "outputs": [],
   "source": [
    "print(119 / 2416)\n",
    "print(155 / 2416)\n",
    "print(233 / 2416)\n",
    "print(458 / 2416)"
   ]
  },
  {
   "cell_type": "code",
   "execution_count": null,
   "metadata": {},
   "outputs": [],
   "source": [
    "len(VAL_Y) # 119 155 233 458"
   ]
  },
  {
   "cell_type": "code",
   "execution_count": null,
   "metadata": {},
   "outputs": [],
   "source": [
    "VAL_Y['sum'] = VAL_Y"
   ]
  },
  {
   "cell_type": "code",
   "execution_count": null,
   "metadata": {},
   "outputs": [],
   "source": []
  },
  {
   "cell_type": "code",
   "execution_count": null,
   "metadata": {},
   "outputs": [],
   "source": []
  },
  {
   "cell_type": "code",
   "execution_count": null,
   "metadata": {},
   "outputs": [],
   "source": []
  },
  {
   "cell_type": "code",
   "execution_count": null,
   "metadata": {},
   "outputs": [],
   "source": [
    "train.shape"
   ]
  },
  {
   "cell_type": "code",
   "execution_count": null,
   "metadata": {},
   "outputs": [],
   "source": [
    "# train[:,:,:,-1] = np.where(train[:,:,:,-1]>=200, 0, train[:,:,:,-1])"
   ]
  },
  {
   "cell_type": "code",
   "execution_count": null,
   "metadata": {},
   "outputs": [],
   "source": [
    "pd.options.display.max_columns = 800\n",
    "pd.options.display.max_rows = 800"
   ]
  },
  {
   "cell_type": "code",
   "execution_count": null,
   "metadata": {},
   "outputs": [],
   "source": [
    "train = train.reshape(train.shape[0] * train.shape[1] * train.shape[2], train.shape[3])\n",
    "test = test.reshape(test.shape[0] * test.shape[1] * test.shape[2], test.shape[3])\n",
    "train_y = train_y.reshape(train_y.shape[0] * train_y.shape[1] * train_y.shape[2], train_y.shape[3])"
   ]
  },
  {
   "cell_type": "code",
   "execution_count": null,
   "metadata": {},
   "outputs": [],
   "source": [
    "train = np.concatenate([train, train_y], -1)"
   ]
  },
  {
   "cell_type": "code",
   "execution_count": null,
   "metadata": {},
   "outputs": [],
   "source": [
    "tmp = pd.DataFrame(train).reset_index(drop=True)"
   ]
  },
  {
   "cell_type": "code",
   "execution_count": null,
   "metadata": {},
   "outputs": [],
   "source": [
    "tmp = tmp.iloc[780::1600, :]\n",
    "tmp = tmp.reset_index(drop=True)"
   ]
  },
  {
   "cell_type": "code",
   "execution_count": null,
   "metadata": {},
   "outputs": [],
   "source": [
    "tmp = tmp.rename(columns={0:'v1',1:'h1',2:'v2',3:'h2',4:'v3',5:'v4',6:'h4',7:'v5',8:'h5',9:'surface',10:'x1',11:'y1',12:'x2',13:'y2', 14:'target'})"
   ]
  },
  {
   "cell_type": "code",
   "execution_count": null,
   "metadata": {
    "deletable": false,
    "editable": false,
    "run_control": {
     "frozen": true
    }
   },
   "outputs": [],
   "source": [
    "tmp['surface'] = tmp['surface'].astype(int)"
   ]
  },
  {
   "cell_type": "code",
   "execution_count": null,
   "metadata": {
    "deletable": false,
    "editable": false,
    "run_control": {
     "frozen": true
    }
   },
   "outputs": [],
   "source": [
    "tmp['surf'] = tmp['surface'] // 100"
   ]
  },
  {
   "cell_type": "code",
   "execution_count": null,
   "metadata": {
    "deletable": false,
    "editable": false,
    "run_control": {
     "frozen": true
    }
   },
   "outputs": [],
   "source": [
    "tmp = pd.concat([tmp, pd.get_dummies(tmp['surf'])], axis=1)"
   ]
  },
  {
   "cell_type": "code",
   "execution_count": null,
   "metadata": {},
   "outputs": [],
   "source": [
    "tmp.head()"
   ]
  },
  {
   "cell_type": "code",
   "execution_count": null,
   "metadata": {},
   "outputs": [],
   "source": [
    "tmp.groupby('surf')['target'].mean()"
   ]
  },
  {
   "cell_type": "code",
   "execution_count": null,
   "metadata": {},
   "outputs": [],
   "source": [
    "for i in ['v1', 'h1', 'v2', 'h2', 'v3', 'v4', 'h4', 'v5', 'h5']:\n",
    "    tmp[f'{i}_dv'] = (100 / tmp[f'{i}'])"
   ]
  },
  {
   "cell_type": "code",
   "execution_count": null,
   "metadata": {
    "scrolled": true
   },
   "outputs": [],
   "source": [
    "tmp.corr()['target']"
   ]
  },
  {
   "cell_type": "code",
   "execution_count": null,
   "metadata": {},
   "outputs": [],
   "source": [
    "tmp['vsum'] = tmp['v1'] + tmp['v2'] + tmp['v3'] + tmp['v4']+ tmp['v5']\n",
    "tmp['hsum'] = tmp['h1'] + tmp['h2'] + tmp['h4']+ tmp['h5']"
   ]
  },
  {
   "cell_type": "code",
   "execution_count": null,
   "metadata": {},
   "outputs": [],
   "source": [
    "tmp['rot1'] = tmp['vsum'] * np.cos(np.pi / 6) + tmp['hsum'] * np.sin(np.pi / 4)\n",
    "tmp['rot2'] = tmp['vsum'] * np.cos(np.pi / 6) - tmp['hsum'] * np.sin(np.pi / 4)"
   ]
  },
  {
   "cell_type": "code",
   "execution_count": null,
   "metadata": {},
   "outputs": [],
   "source": [
    "# for i in ['v1', 'h1', 'v2', 'h2', 'v3', 'v4', 'h4', 'v5', 'h5']:\n",
    "#     tmp[f'{i}_sq'] = (tmp[f'{i}'] ** 2) / 100"
   ]
  },
  {
   "cell_type": "code",
   "execution_count": null,
   "metadata": {
    "code_folding": []
   },
   "outputs": [],
   "source": [
    "# 큰 도움 안됨\n",
    "# tmp['v1_p_h1_sq'] = tmp['v1_sq'] + tmp['h1_sq']\n",
    "# tmp['v2_p_h2_sq'] = tmp['v2_sq'] + tmp['h2_sq']\n",
    "# tmp['v4_p_h4_sq'] = tmp['v4_sq'] + tmp['h4_sq']\n",
    "# tmp['v5_p_h5_sq'] = tmp['v5_sq'] + tmp['h5_sq']\n"
   ]
  },
  {
   "cell_type": "code",
   "execution_count": null,
   "metadata": {},
   "outputs": [],
   "source": [
    "# 큰 도움 안됨\n",
    "# tmp['v1_m_h1_sq'] = tmp['v1_sq'] - tmp['h1_sq']\n",
    "# tmp['v2_m_h2_sq'] = tmp['v2_sq'] - tmp['h2_sq']  # 매우 약간 상관관계 높아짐\n",
    "# tmp['v4_m_h4_sq'] = tmp['v4_sq'] - tmp['h4_sq']  # 조금 높게 상관관계 높아짐\n",
    "# tmp['v5_m_h5_sq'] = tmp['v5_sq'] - tmp['h5_sq']\n"
   ]
  },
  {
   "cell_type": "code",
   "execution_count": null,
   "metadata": {},
   "outputs": [],
   "source": [
    "# from sklearn.preprocessing import StandardScaler\n",
    "# ss = StandardScaler()\n",
    "# for i in tmp.columns:\n",
    "#     if i == 'target':\n",
    "#         continue\n",
    "#     tmp[i] = ss.fit_transform(tmp[[i]])"
   ]
  },
  {
   "cell_type": "code",
   "execution_count": null,
   "metadata": {},
   "outputs": [],
   "source": [
    "tmp['target'] = np.log(tmp['target']+1)"
   ]
  },
  {
   "cell_type": "code",
   "execution_count": null,
   "metadata": {},
   "outputs": [],
   "source": [
    "for i in range(1, 91):\n",
    "    tmp[f'ch1_rot1_{i}'] = tmp['vsum'] * np.cos(np.pi * i / 180) + tmp['hsum'] * np.sin(np.pi * i / 180)\n",
    "    tmp[f'ch1_rot2_{i}'] = tmp['vsum'] * np.cos(np.pi * i / 180) - tmp['hsum'] * np.sin(np.pi * i / 180)"
   ]
  },
  {
   "cell_type": "code",
   "execution_count": null,
   "metadata": {
    "scrolled": false
   },
   "outputs": [],
   "source": [
    "tmp.corr()['target']"
   ]
  },
  {
   "cell_type": "code",
   "execution_count": null,
   "metadata": {},
   "outputs": [],
   "source": [
    "zxcv"
   ]
  },
  {
   "cell_type": "code",
   "execution_count": null,
   "metadata": {},
   "outputs": [],
   "source": [
    "# tmp['v1_p_h1_30'] = tmp['v1'] * np.cos(np.pi / 6) + tmp['h1'] * np.sin(np.pi / 6)\n",
    "# tmp['v1_m_h1_30'] = tmp['v1'] * np.cos(np.pi / 6) - tmp['h1'] * np.sin(np.pi / 6)\n",
    "tmp['ch1_rot1'] = tmp['v1'] * np.cos(np.pi / 4) + tmp['h1'] * np.sin(np.pi / 4)\n",
    "tmp['ch1_rot2'] = tmp['v1'] * np.cos(np.pi / 4) - tmp['h1'] * np.sin(np.pi / 4)\n",
    "# tmp['v1_p_h1_60'] = tmp['v1'] * np.cos(np.pi / 3) + tmp['h1'] * np.sin(np.pi / 3)\n",
    "# tmp['v1_m_h1_60'] = tmp['v1'] * np.cos(np.pi / 3) - tmp['h1'] * np.sin(np.pi / 3)\n",
    "\n",
    "\n",
    "\n",
    "# tmp['v2_p_h2_30'] = tmp['v2'] * np.cos(np.pi / 6) + tmp['h2'] * np.sin(np.pi / 6)\n",
    "# tmp['v2_m_h2_30'] = tmp['v2'] * np.cos(np.pi / 6) - tmp['h2'] * np.sin(np.pi / 6)\n",
    "tmp['ch2_rot1'] = tmp['v2'] * np.cos(np.pi / 4) + tmp['h2'] * np.sin(np.pi / 4)\n",
    "tmp['ch2_rot2'] = tmp['v2'] * np.cos(np.pi / 4) - tmp['h2'] * np.sin(np.pi / 4)\n",
    "# tmp['v2_p_h2_60'] = tmp['v2'] * np.cos(np.pi / 3) + tmp['h2'] * np.sin(np.pi / 3)\n",
    "# tmp['v2_m_h2_60'] = tmp['v2'] * np.cos(np.pi / 3) - tmp['h2'] * np.sin(np.pi / 3)\n",
    "\n",
    "\n",
    "# tmp['v4_p_h4_30'] = tmp['v4'] * np.cos(np.pi / 6) + tmp['h4'] * np.sin(np.pi / 6)\n",
    "# tmp['v4_m_h4_30'] = tmp['v4'] * np.cos(np.pi / 6) - tmp['h4'] * np.sin(np.pi / 6)\n",
    "tmp['ch4_rot1'] = tmp['v4'] * np.cos(np.pi / 4) + tmp['h4'] * np.sin(np.pi / 4)\n",
    "tmp['ch4_rot2'] = tmp['v4'] * np.cos(np.pi / 4) - tmp['h4'] * np.sin(np.pi / 4)\n",
    "# tmp['v4_p_h4_60'] = tmp['v4'] * np.cos(np.pi / 3) + tmp['h4'] * np.sin(np.pi / 3)\n",
    "# tmp['v4_m_h4_60'] = tmp['v4'] * np.cos(np.pi / 3) - tmp['h4'] * np.sin(np.pi / 3)\n",
    "\n",
    "\n",
    "tmp['ch5_rot1'] = tmp['v5'] * np.cos(np.pi / 6) + tmp['h5'] * np.sin(np.pi / 6)\n",
    "tmp['ch5_rot2'] = tmp['v5'] * np.cos(np.pi / 6) - tmp['h5'] * np.sin(np.pi / 6)\n",
    "# tmp['v5_p_h5_45'] = tmp['v5'] * np.cos(np.pi / 4) + tmp['h5'] * np.sin(np.pi / 4)\n",
    "# tmp['v5_m_h5_45'] = tmp['v5'] * np.cos(np.pi / 4) - tmp['h5'] * np.sin(np.pi / 4)\n",
    "# tmp['v5_p_h5_60'] = tmp['v5'] * np.cos(np.pi / 3) + tmp['h5'] * np.sin(np.pi / 3)\n",
    "# tmp['v5_m_h5_60'] = tmp['v5'] * np.cos(np.pi / 3) - tmp['h5'] * np.sin(np.pi / 3)\n",
    "\n",
    "\n",
    "# tmp['x1_p_y1_30'] = tmp['x1'] * np.cos(np.pi / 6) + tmp['y1'] * np.sin(np.pi / 6)\n",
    "# tmp['x1_m_y1_30'] = tmp['x1'] * np.cos(np.pi / 6) - tmp['y1'] * np.sin(np.pi / 6)\n",
    "# tmp['x1_p_y1_45'] = tmp['x1'] * np.cos(np.pi / 4) + tmp['y1'] * np.sin(np.pi / 4)\n",
    "# tmp['x1_m_y1_45'] = tmp['x1'] * np.cos(np.pi / 4) - tmp['y1'] * np.sin(np.pi / 4)\n",
    "# tmp['x1_p_y1_60'] = tmp['x1'] * np.cos(np.pi / 3) + tmp['y1'] * np.sin(np.pi / 3)\n",
    "# tmp['x1_m_y1_60'] = tmp['x1'] * np.cos(np.pi / 3) - tmp['y1'] * np.sin(np.pi / 3)\n",
    "\n",
    "\n",
    "# tmp['x2_p_y2_30'] = tmp['x2'] * np.cos(np.pi / 6) + tmp['y2'] * np.sin(np.pi / 6)\n",
    "# tmp['x2_m_y2_30'] = tmp['x2'] * np.cos(np.pi / 6) - tmp['y2'] * np.sin(np.pi / 6)\n",
    "# tmp['x2_p_y2_45'] = tmp['x2'] * np.cos(np.pi / 4) + tmp['y2'] * np.sin(np.pi / 4)\n",
    "# tmp['x2_m_y2_45'] = tmp['x2'] * np.cos(np.pi / 4) - tmp['y2'] * np.sin(np.pi / 4)\n",
    "# tmp['x2_p_y2_60'] = tmp['x2'] * np.cos(np.pi / 3) + tmp['y2'] * np.sin(np.pi / 3)\n",
    "# tmp['x2_m_y2_60'] = tmp['x2'] * np.cos(np.pi / 3) - tmp['y2'] * np.sin(np.pi / 3)"
   ]
  },
  {
   "cell_type": "code",
   "execution_count": null,
   "metadata": {},
   "outputs": [],
   "source": [
    "tmp2 = tmp.iloc[:, 15:].copy()"
   ]
  },
  {
   "cell_type": "code",
   "execution_count": null,
   "metadata": {},
   "outputs": [],
   "source": [
    "tmp2.columns"
   ]
  },
  {
   "cell_type": "code",
   "execution_count": null,
   "metadata": {},
   "outputs": [],
   "source": [
    "for i in tmp2.columns:\n",
    "    tmp2[f'{i}_sq'] = (tmp2[f'{i}'] ** 2) / 100"
   ]
  },
  {
   "cell_type": "code",
   "execution_count": null,
   "metadata": {},
   "outputs": [],
   "source": [
    "tmp2['v1m'] = tmp2['ch1_rot1_sq'] - tmp2['ch1_rot2_sq']\n",
    "tmp2['v1m2'] = abs(tmp2['ch1_rot1_sq'] - tmp2['ch1_rot2_sq'])\n",
    "\n",
    "tmp2['v1p'] = tmp2['ch1_rot1_sq'] + tmp2['ch1_rot2_sq']\n",
    "\n",
    "tmp2['v1p1'] = (tmp2['ch1_rot1_sq'] + tmp2['ch1_rot2_sq'])**0.5\n",
    "tmp2['v1p2'] = np.log(tmp2['ch1_rot1_sq'] + tmp2['ch1_rot2_sq'])\n",
    "\n",
    "tmp2['v2m'] = tmp2['ch2_rot1_sq'] - tmp2['ch2_rot2_sq']\n",
    "tmp2['v2p'] = tmp2['ch2_rot1_sq'] + tmp2['ch2_rot2_sq']\n",
    "\n",
    "tmp2['v4m'] = tmp2['ch4_rot1_sq'] - tmp2['ch4_rot2_sq']\n",
    "tmp2['v4p'] = tmp2['ch4_rot1_sq'] + tmp2['ch4_rot2_sq']\n",
    "\n",
    "tmp2['v5m'] = tmp2['ch5_rot1_sq'] - tmp2['ch5_rot2_sq']\n",
    "tmp2['v5m2'] = abs(tmp2['ch5_rot1_sq'] - tmp2['ch5_rot2_sq'])\n",
    "\n",
    "tmp2['v5p'] = tmp2['ch5_rot1_sq'] + tmp2['ch5_rot2_sq']"
   ]
  },
  {
   "cell_type": "code",
   "execution_count": null,
   "metadata": {},
   "outputs": [],
   "source": [
    "tmp2['target1'] = np.log(tmp['target']+1)"
   ]
  },
  {
   "cell_type": "code",
   "execution_count": null,
   "metadata": {},
   "outputs": [],
   "source": [
    "tmp2.corr()['target1']"
   ]
  },
  {
   "cell_type": "code",
   "execution_count": null,
   "metadata": {},
   "outputs": [],
   "source": [
    "tmp2.corr()['target']"
   ]
  },
  {
   "cell_type": "code",
   "execution_count": null,
   "metadata": {},
   "outputs": [],
   "source": [
    "tmp2.corr()['target']"
   ]
  },
  {
   "cell_type": "code",
   "execution_count": null,
   "metadata": {},
   "outputs": [],
   "source": [
    "tmp.corr()['target']"
   ]
  },
  {
   "cell_type": "markdown",
   "metadata": {},
   "source": [
    "```\n",
    "01 / 23 / 56 / 78\n",
    "최고이지만  \n",
    "v1_p_h1_60    0.022131  \n",
    "v1_m_h1_45   -0.023351     \n",
    "v2_p_h2_60    0.056419        \n",
    "v2_m_h2_45   -0.059254      \n",
    "v4_p_h4_60    0.066445  \n",
    "v4_m_h4_45   -0.074285   \n",
    "v5_p_h5_30   -0.036715   \n",
    "v5_m_h5_30   -0.102824   \n",
    "\n",
    "많은 차이가 없어서 이렇게 맞춰줌  \n",
    "v1_p_h1_45  \n",
    "v1_m_h1_45     \n",
    "v2_p_h2_45         \n",
    "v2_m_h2_45        \n",
    "v4_p_h4_45    \n",
    "v4_m_h4_45     \n",
    "v5_p_h5_30     \n",
    "v5_m_h5_30\n",
    "```"
   ]
  },
  {
   "cell_type": "code",
   "execution_count": null,
   "metadata": {},
   "outputs": [],
   "source": [
    "tmp[['v1_p_h1_45',\n",
    "'v1_m_h1_45',\n",
    "'v2_p_h2_45',        \n",
    "'v2_m_h2_45',\n",
    "'v3',\n",
    "'v4_p_h4_45',  \n",
    "'v4_m_h4_45',     \n",
    "'v5_p_h5_30',    \n",
    "'v5_m_h5_30', 'surface','target']].corr()"
   ]
  },
  {
   "cell_type": "code",
   "execution_count": null,
   "metadata": {},
   "outputs": [],
   "source": [
    "# 0~8 번 이렇게 줄여보자. 이거에 surface만 추가해서 돌려보기.\n",
    "v1_m_h1_45   \n",
    "v2_m_h2_45\n",
    "v3\n",
    "v4_p_h4_30    \n",
    "v4_m_h4_30  \n",
    "v5_p_h5_30   \n",
    "v5_m_h5_30   "
   ]
  },
  {
   "cell_type": "code",
   "execution_count": null,
   "metadata": {},
   "outputs": [],
   "source": [
    "tmp.corr()['target']"
   ]
  },
  {
   "cell_type": "code",
   "execution_count": null,
   "metadata": {},
   "outputs": [],
   "source": []
  },
  {
   "cell_type": "code",
   "execution_count": null,
   "metadata": {},
   "outputs": [],
   "source": [
    "tmp['v1_p_h1'] = tmp['v1'] + tmp['h1']\n",
    "tmp['v1_m_h1'] = -tmp['v1'] + tmp['h1']\n",
    "tmp['v1_p_h1_30'] = tmp['v1'] * np.cos(np.pi / 6) + tmp['h1'] * np.sin(np.pi / 6)\n",
    "tmp['v1_m_h1_30'] = -tmp['v1'] * np.cos(np.pi / 6) + tmp['h1'] * np.sin(np.pi / 6)\n",
    "tmp['v1_p_h1_60'] = tmp['v1'] * np.cos(np.pi / 3) + tmp['h1'] * np.sin(np.pi / 3)\n",
    "tmp['v1_m_h1_60'] = -tmp['v1'] * np.cos(np.pi / 3) + tmp['h1'] * np.sin(np.pi / 3)\n",
    "\n",
    "\n",
    "tmp['v2_p_h2'] = tmp['v2'] + tmp['h2']\n",
    "tmp['v2_m_h2'] = -tmp['v2'] + tmp['h2']\n",
    "tmp['v2_p_h2_30'] = tmp['v2'] * np.cos(np.pi / 6) + tmp['h2'] * np.sin(np.pi / 6)\n",
    "tmp['v2_m_h2_30'] = -tmp['v2'] * np.cos(np.pi / 6) + tmp['h2'] * np.sin(np.pi / 6)\n",
    "tmp['v2_p_h2_60'] = tmp['v2'] * np.cos(np.pi / 3) + tmp['h2'] * np.sin(np.pi / 3)\n",
    "tmp['v2_m_h2_60'] = -tmp['v2'] * np.cos(np.pi / 3) + tmp['h2'] * np.sin(np.pi / 3)\n",
    "\n",
    "tmp['v4_p_h4'] = tmp['v4'] + tmp['h4']\n",
    "tmp['v4_m_h4'] = -tmp['v4'] + tmp['h4']\n",
    "tmp['v4_p_h4_30'] = tmp['v4'] * np.cos(np.pi / 6) + tmp['h4'] * np.sin(np.pi / 6)\n",
    "tmp['v4_m_h4_30'] = -tmp['v4'] * np.cos(np.pi / 6) + tmp['h4'] * np.sin(np.pi / 6)\n",
    "tmp['v4_p_h4_60'] = tmp['v4'] * np.cos(np.pi / 3) + tmp['h4'] * np.sin(np.pi / 3)\n",
    "tmp['v4_m_h4_60'] = -tmp['v4'] * np.cos(np.pi / 3) + tmp['h4'] * np.sin(np.pi / 3)\n",
    "\n",
    "tmp['v5_p_h5'] = tmp['v5'] + tmp['h5']\n",
    "tmp['v5_m_h5'] = -tmp['v5'] + tmp['h5']\n",
    "tmp['v5_p_h5_30'] = tmp['v5'] * np.cos(np.pi / 6) + tmp['h5'] * np.sin(np.pi / 6)\n",
    "tmp['v5_m_h5_30'] = -tmp['v5'] * np.cos(np.pi / 6) + tmp['h5'] * np.sin(np.pi / 6)\n",
    "tmp['v5_p_h5_60'] = tmp['v5'] * np.cos(np.pi / 3) + tmp['h5'] * np.sin(np.pi / 3)\n",
    "tmp['v5_m_h5_60'] = -tmp['v5'] * np.cos(np.pi / 3) + tmp['h5'] * np.sin(np.pi / 3)\n",
    "\n",
    "tmp['x1_p_y1'] = tmp['x1'] + tmp['y1']\n",
    "tmp['x1_m_y1'] = -tmp['x1'] + tmp['y1']\n",
    "tmp['x1_p_y1_30'] = tmp['x1'] * np.cos(np.pi / 6) + tmp['y1'] * np.sin(np.pi / 6)\n",
    "tmp['x1_p_y1_30'] = -tmp['x1'] * np.cos(np.pi / 6) + tmp['y1'] * np.sin(np.pi / 6)\n",
    "tmp['x1_p_y1_60'] = tmp['x1'] * np.cos(np.pi / 3) + tmp['y1'] * np.sin(np.pi / 3)\n",
    "tmp['x1_p_y1_60'] = -tmp['x1'] * np.cos(np.pi / 3) + tmp['y1'] * np.sin(np.pi / 3)\n",
    "\n",
    "tmp['x2_p_y2'] = tmp['x2'] + tmp['y2']\n",
    "tmp['x2_m_y2'] = -tmp['x2'] + tmp['y2']\n",
    "tmp['x2_p_y2_30'] = tmp['x2'] * np.cos(np.pi / 6) + tmp['y2'] * np.sin(np.pi / 6)\n",
    "tmp['x2_p_y2_30'] = -tmp['x2'] * np.cos(np.pi / 6) + tmp['y2'] * np.sin(np.pi / 6)\n",
    "tmp['x2_p_y2_60'] = tmp['x2'] * np.cos(np.pi / 3) + tmp['y2'] * np.sin(np.pi / 3)\n",
    "tmp['x2_p_y2_60'] = -tmp['x2'] * np.cos(np.pi / 3) + tmp['y2'] * np.sin(np.pi / 3)"
   ]
  },
  {
   "cell_type": "code",
   "execution_count": null,
   "metadata": {},
   "outputs": [],
   "source": [
    "tmp.corr()"
   ]
  },
  {
   "cell_type": "code",
   "execution_count": null,
   "metadata": {},
   "outputs": [],
   "source": [
    "tmp.corr()['target']"
   ]
  },
  {
   "cell_type": "code",
   "execution_count": null,
   "metadata": {},
   "outputs": [],
   "source": []
  },
  {
   "cell_type": "code",
   "execution_count": null,
   "metadata": {},
   "outputs": [],
   "source": []
  },
  {
   "cell_type": "code",
   "execution_count": null,
   "metadata": {},
   "outputs": [],
   "source": [
    "all_df = np.vstack([train,test])\n",
    "LEN_TRAIN = len(train)\n",
    "del train\n",
    "del test"
   ]
  },
  {
   "cell_type": "code",
   "execution_count": null,
   "metadata": {},
   "outputs": [],
   "source": [
    "all_df.shape"
   ]
  },
  {
   "cell_type": "code",
   "execution_count": null,
   "metadata": {},
   "outputs": [],
   "source": [
    "all_df = pd.DataFrame(all_df)\n",
    "all_df.columns = ['temp0', 'temp1', 'temp2', 'temp3', 'temp4', 'temp5', 'temp6', 'temp7', 'temp8', 'surface', 'GMI_y', 'GMI_x', 'DPR_y', 'DPR_x']\n",
    "all_df['surface'] = all_df['surface'].astype('int16')\n",
    "\n",
    "\n",
    "train_y = pd.DataFrame(train_y).rename(columns={0:'precipitation'})"
   ]
  },
  {
   "cell_type": "code",
   "execution_count": null,
   "metadata": {},
   "outputs": [],
   "source": [
    "177 103 55 5"
   ]
  },
  {
   "cell_type": "code",
   "execution_count": null,
   "metadata": {},
   "outputs": [],
   "source": [
    "print(all_df['GMI_y'].max(), all_df['GMI_y'].min())"
   ]
  },
  {
   "cell_type": "code",
   "execution_count": null,
   "metadata": {},
   "outputs": [],
   "source": [
    "print(all_df['GMI_x'].max(), all_df['GMI_x'].min())"
   ]
  },
  {
   "cell_type": "code",
   "execution_count": null,
   "metadata": {},
   "outputs": [],
   "source": [
    "print(all_df['DPR_y'].max(), all_df['DPR_y'].min())"
   ]
  },
  {
   "cell_type": "code",
   "execution_count": null,
   "metadata": {},
   "outputs": [],
   "source": [
    "print(all_df['DPR_x'].max(), all_df['DPR_x'].min())"
   ]
  },
  {
   "cell_type": "code",
   "execution_count": null,
   "metadata": {},
   "outputs": [],
   "source": [
    "import matplotlib.pyplot as plt\n",
    "import seaborn as sns\n",
    "\n",
    "plt.figure(figsize = (30,30))\n",
    "plt.plot(all_df['GMI_x'][:64000], all_df['GMI_y'][:64000])"
   ]
  },
  {
   "cell_type": "code",
   "execution_count": null,
   "metadata": {},
   "outputs": [],
   "source": [
    "import matplotlib.pyplot as plt\n",
    "import seaborn as sns\n",
    "\n",
    "plt.figure(figsize = (30,30))\n",
    "plt.plot(all_df['GMI_x'][:3200000], all_df['GMI_y'][:3200000])"
   ]
  },
  {
   "cell_type": "code",
   "execution_count": null,
   "metadata": {},
   "outputs": [],
   "source": [
    "# del train['temp1'], train['temp3']\n",
    "# train.corr()"
   ]
  },
  {
   "cell_type": "markdown",
   "metadata": {},
   "source": [
    "### 온도 반올림"
   ]
  },
  {
   "cell_type": "code",
   "execution_count": null,
   "metadata": {},
   "outputs": [],
   "source": [
    "for i in ['temp0', 'temp1', 'temp2', 'temp3', 'temp4', 'temp5', 'temp6', 'temp7', 'temp8']:\n",
    "    all_df[i] = round(train[i], 5)"
   ]
  },
  {
   "cell_type": "markdown",
   "metadata": {},
   "source": [
    "### 위도, 경도 반올림"
   ]
  },
  {
   "cell_type": "code",
   "execution_count": null,
   "metadata": {},
   "outputs": [],
   "source": [
    "all_df['GMI_x'] = round(all_df['GMI_x'], 5)\n",
    "all_df['GMI_y'] = round(all_df['GMI_y'], 5)\n",
    "all_df['DPR_x'] = round(all_df['DPR_x'], 5)\n",
    "all_df['DPR_y'] = round(all_df['DPR_y'], 5)"
   ]
  },
  {
   "cell_type": "markdown",
   "metadata": {},
   "source": [
    "### 위도, 경도 회전변환 "
   ]
  },
  {
   "cell_type": "code",
   "execution_count": null,
   "metadata": {},
   "outputs": [],
   "source": [
    "all_df['GMI_x_plus_y'] = all_df['GMI_x'] + all_df['GMI_y']\n",
    "all_df['GMI_x_minus_y'] = all_df['GMI_x'] - all_df['GMI_y']\n",
    "all_df['DPR_x_plus_y'] = all_df['DPR_x'] + all_df['DPR_y']\n",
    "all_df['DPR_x_minus_y'] = all_df['DPR_x'] - all_df['DPR_y']"
   ]
  },
  {
   "cell_type": "markdown",
   "metadata": {},
   "source": [
    "### 지표면 카테고리 4개로 묶음"
   ]
  },
  {
   "cell_type": "code",
   "execution_count": null,
   "metadata": {},
   "outputs": [],
   "source": [
    "all_df['surface_group'] = (all_df['surface'] / 100).astype('int16')"
   ]
  },
  {
   "cell_type": "markdown",
   "metadata": {},
   "source": [
    "### 데이터셋 나누기"
   ]
  },
  {
   "cell_type": "code",
   "execution_count": null,
   "metadata": {},
   "outputs": [],
   "source": [
    "train = all_df[:LEN_TRAIN]\n",
    "test = all_df[LEN_TRAIN:]"
   ]
  },
  {
   "cell_type": "code",
   "execution_count": null,
   "metadata": {},
   "outputs": [],
   "source": [
    "# from sklearn.preprocessing import StandardScaler\n",
    "# from sklearn.preprocessing import RobustScaler\n",
    "\n",
    "# ss = StandardScaler()\n",
    "# # rs = RobustScaler()\n",
    "# train = ss.fit_transform(train)\n",
    "\n",
    "# del ss"
   ]
  },
  {
   "cell_type": "code",
   "execution_count": null,
   "metadata": {},
   "outputs": [],
   "source": [
    "# import pickle\n",
    "\n",
    "# with open('inputs/train_ss.pickle', 'wb') as f:\n",
    "#     pickle.dump(train, f, protocol=4)\n",
    "    \n",
    "# with open('inputs/train_ss.pickle', 'rb') as f:\n",
    "#     train = pickle.load(f)\n",
    "    \n",
    "# with open('D:/inputs/24/train_y.pickle', 'rb') as f:\n",
    "#     train_y = pickle.load(f)\n",
    "# train_y = train_y.reshape(75957, 40, 40, 1)    \n",
    "# train_y = train_y.reshape(train_y.shape[0] * train_y.shape[1] * train_y.shape[2], train_y.shape[3])"
   ]
  },
  {
   "cell_type": "markdown",
   "metadata": {},
   "source": [
    "### RandomForest Regressor 모델"
   ]
  },
  {
   "cell_type": "code",
   "execution_count": null,
   "metadata": {},
   "outputs": [],
   "source": [
    "# from sklearn.ensemble import RandomForestRegressor\n",
    "# rf = RandomForestRegressor(criterion='mae', verbose=1, n_jobs=-1, max_depth=5)\n",
    "# rf.fit(train, target)\n",
    "# print(mae_over_fscore(target, rf.predict(train)))"
   ]
  },
  {
   "cell_type": "markdown",
   "metadata": {},
   "source": [
    "### Lidge 모델"
   ]
  },
  {
   "cell_type": "code",
   "execution_count": null,
   "metadata": {},
   "outputs": [],
   "source": [
    "# from sklearn.linear_model import RidgeCV, Ridge, Lasso\n",
    "# from sklearn.metrics import mean_absolute_error\n",
    "\n",
    "# for alpha in [1, 10, 50, 100, 200, 300]:\n",
    "#     ridge = Ridge(alpha=alpha)\n",
    "#     ridge.fit(train, target)\n",
    "#     print(alpha)\n",
    "#     print(mae_over_fscore(target, ridge.predict(train)))\n",
    "#     print('\\n')"
   ]
  },
  {
   "cell_type": "markdown",
   "metadata": {},
   "source": [
    "### Lasso 모델 "
   ]
  },
  {
   "cell_type": "code",
   "execution_count": null,
   "metadata": {},
   "outputs": [],
   "source": [
    "# for alpha in [1, 10, 100]:\n",
    "#     lasso = Lasso()\n",
    "#     lasso.fit(train, target)\n",
    "#     print(mae_over_fscore(target, lasso.predict(train)))"
   ]
  },
  {
   "cell_type": "markdown",
   "metadata": {},
   "source": [
    "### Catboost Regressor 모델"
   ]
  },
  {
   "cell_type": "code",
   "execution_count": null,
   "metadata": {},
   "outputs": [],
   "source": [
    "from catboost import CatBoostRegressor\n",
    "# category 데이터에 특히 잘 적용되고,\n",
    "# 컬럼 랜덤하게 뽑고, row도 랜덤하게 뽑아서 랜덤포레스트와 비슷한 느낌. 파라미터 설정에 신경쓰지 않아도 어느 정도점수 잘나오는 모델\n",
    "\n",
    "cb = CatBoostRegressor(iterations=10, loss_function='MAE', random_seed = 30)\n",
    "cb.fit(train, train_y)\n"
   ]
  },
  {
   "cell_type": "code",
   "execution_count": null,
   "metadata": {},
   "outputs": [],
   "source": [
    "print(mae_over_fscore(train_y, cb.predict(train)))"
   ]
  },
  {
   "cell_type": "code",
   "execution_count": null,
   "metadata": {},
   "outputs": [],
   "source": [
    "cb.fit(train, train_y, init_model=cb)\n",
    "print(mae_over_fscore(train_y, cb.predict(train)))"
   ]
  },
  {
   "cell_type": "code",
   "execution_count": null,
   "metadata": {},
   "outputs": [],
   "source": [
    "cb.fit(train, train_y, init_model=cb)\n",
    "print(mae_over_fscore(train_y, cb.predict(train)))"
   ]
  },
  {
   "cell_type": "code",
   "execution_count": null,
   "metadata": {
    "scrolled": true
   },
   "outputs": [],
   "source": [
    "pd.DataFrame(cb.get_feature_importance(), index = train.columns)"
   ]
  },
  {
   "cell_type": "code",
   "execution_count": null,
   "metadata": {},
   "outputs": [],
   "source": [
    "cb.fit(train, train_y, init_model=cb)\n",
    "print(mae_over_fscore(train_y, cb.predict(train)))"
   ]
  },
  {
   "cell_type": "code",
   "execution_count": null,
   "metadata": {},
   "outputs": [],
   "source": [
    "cb.fit(train, train_y, init_model=cb)\n",
    "print(mae_over_fscore(train_y, cb.predict(train)))"
   ]
  },
  {
   "cell_type": "code",
   "execution_count": null,
   "metadata": {},
   "outputs": [],
   "source": [
    "cb.fit(train, train_y, init_model=cb)\n",
    "print(mae_over_fscore(train_y, cb.predict(train)))"
   ]
  },
  {
   "cell_type": "code",
   "execution_count": null,
   "metadata": {},
   "outputs": [],
   "source": [
    "cb.fit(train, train_y, init_model=cb)\n",
    "print(mae_over_fscore(train_y, cb.predict(train)))"
   ]
  },
  {
   "cell_type": "code",
   "execution_count": null,
   "metadata": {},
   "outputs": [],
   "source": [
    "cb.fit(train, train_y, init_model=cb)\n",
    "print(mae_over_fscore(train_y, cb.predict(train)))"
   ]
  },
  {
   "cell_type": "code",
   "execution_count": null,
   "metadata": {},
   "outputs": [],
   "source": []
  },
  {
   "cell_type": "code",
   "execution_count": null,
   "metadata": {},
   "outputs": [],
   "source": []
  },
  {
   "cell_type": "code",
   "execution_count": null,
   "metadata": {},
   "outputs": [],
   "source": []
  },
  {
   "cell_type": "code",
   "execution_count": null,
   "metadata": {},
   "outputs": [],
   "source": [
    "cb.save_model(\"cb_model_40\",\n",
    "           format=\"cbm\",\n",
    "           export_parameters=None,\n",
    "           pool=None)"
   ]
  },
  {
   "cell_type": "code",
   "execution_count": null,
   "metadata": {},
   "outputs": [],
   "source": [
    "# catboost model load - continuous fit 가능\n",
    "# cb = CatBoostRegressor(iterations=10, loss_function='MAE')\n",
    "# cb.load_model(\"cb_model_40\")\n",
    "# cb.fit(train, target, init_model=cb1)"
   ]
  },
  {
   "cell_type": "code",
   "execution_count": null,
   "metadata": {},
   "outputs": [],
   "source": [
    "print(mae_over_fscore(target, cb1.predict(train)))"
   ]
  },
  {
   "cell_type": "markdown",
   "metadata": {},
   "source": [
    "10 - 3.8450220123151535  \n",
    "20 - 3.169688157233239  \n",
    "30 - 2.930901411484702  \n",
    "40 - 2.7957138063731715"
   ]
  },
  {
   "cell_type": "markdown",
   "metadata": {},
   "source": [
    "### lightgbm 모델"
   ]
  },
  {
   "cell_type": "code",
   "execution_count": null,
   "metadata": {},
   "outputs": [],
   "source": [
    "from lightgbm import LGBMRegressor\n",
    "\n",
    "lgb = LGBMRegressor(device='cpu', n_estimators = 40)\n",
    "lgb.fit(train, target)"
   ]
  },
  {
   "cell_type": "code",
   "execution_count": null,
   "metadata": {},
   "outputs": [],
   "source": [
    "print(mae_over_fscore(target, lgb.predict(train)))"
   ]
  },
  {
   "cell_type": "markdown",
   "metadata": {},
   "source": [
    "- 10 - 5.615421879934444\n",
    "- 20 - 2.5261612717784985\n",
    "- 30 - 2.490089590398271\n",
    "- 40 - 2.478701832641337"
   ]
  },
  {
   "cell_type": "markdown",
   "metadata": {},
   "source": [
    "아이디어\n",
    "- temp0~8를 pca로 축소하기"
   ]
  }
 ],
 "metadata": {
  "kernelspec": {
   "display_name": "Python 3",
   "language": "python",
   "name": "python3"
  },
  "language_info": {
   "codemirror_mode": {
    "name": "ipython",
    "version": 3
   },
   "file_extension": ".py",
   "mimetype": "text/x-python",
   "name": "python",
   "nbconvert_exporter": "python",
   "pygments_lexer": "ipython3",
   "version": "3.6.8"
  },
  "toc": {
   "base_numbering": 1,
   "nav_menu": {},
   "number_sections": false,
   "sideBar": true,
   "skip_h1_title": false,
   "title_cell": "Table of Contents",
   "title_sidebar": "Contents",
   "toc_cell": false,
   "toc_position": {
    "height": "calc(100% - 180px)",
    "left": "10px",
    "top": "150px",
    "width": "165px"
   },
   "toc_section_display": true,
   "toc_window_display": true
  }
 },
 "nbformat": 4,
 "nbformat_minor": 4
}
