{
 "cells": [
  {
   "cell_type": "code",
   "execution_count": null,
   "metadata": {},
   "outputs": [],
   "source": [
    "import pickle\n",
    "import numpy as np\n",
    "import pandas as pd\n",
    "import gc\n",
    "\n",
    "\n",
    "with open('D:/inputs/24/train50.pickle', 'rb') as f:\n",
    "    train = pickle.load(f)\n",
    "with open('D:/inputs/24/train_y50.pickle', 'rb') as f:\n",
    "    train_y = pickle.load(f)\n",
    "train_y = train_y.reshape(train_y.shape[0],40, 40, 1)    \n",
    "with open('D:/inputs/24/test.pickle', 'rb') as f:\n",
    "    test = pickle.load(f)\n",
    "    \n"
   ]
  },
  {
   "cell_type": "code",
   "execution_count": null,
   "metadata": {},
   "outputs": [],
   "source": [
    "pd.options.display.max_columns = 100\n",
    "pd.options.display.max_rows = 100"
   ]
  },
  {
   "cell_type": "code",
   "execution_count": null,
   "metadata": {},
   "outputs": [],
   "source": [
    "train = train.reshape(train.shape[0] * train.shape[1] * train.shape[2], train.shape[3])\n",
    "test = test.reshape(test.shape[0] * test.shape[1] * test.shape[2], test.shape[3])\n",
    "train_y = train_y.reshape(train_y.shape[0] * train_y.shape[1] * train_y.shape[2], train_y.shape[3])"
   ]
  },
  {
   "cell_type": "code",
   "execution_count": null,
   "metadata": {},
   "outputs": [],
   "source": [
    "train = np.concatenate([train, train_y], -1)"
   ]
  },
  {
   "cell_type": "code",
   "execution_count": null,
   "metadata": {},
   "outputs": [],
   "source": [
    "tmp = pd.DataFrame(train)"
   ]
  },
  {
   "cell_type": "code",
   "execution_count": null,
   "metadata": {},
   "outputs": [],
   "source": [
    "tmp = tmp.iloc[780::1600, :]"
   ]
  },
  {
   "cell_type": "code",
   "execution_count": null,
   "metadata": {},
   "outputs": [],
   "source": [
    "tmp = tmp.rename(columns={0:'v1',1:'h1',2:'v2',3:'h2',4:'v3',5:'v4',6:'h4',7:'v5',8:'h5',9:'surface',10:'x1',11:'y1',12:'x2',13:'y2', 14:'target'})"
   ]
  },
  {
   "cell_type": "code",
   "execution_count": null,
   "metadata": {},
   "outputs": [],
   "source": [
    "tmp['v1_p_h1_30'] = tmp['v1'] * np.cos(np.pi / 6) + tmp['h1'] * np.sin(np.pi / 6)\n",
    "tmp['v1_m_h1_30'] = tmp['v1'] * np.cos(np.pi / 6) - tmp['h1'] * np.sin(np.pi / 6)\n",
    "tmp['v1_p_h1_45'] = tmp['v1'] * np.cos(np.pi / 4) + tmp['h1'] * np.sin(np.pi / 4)\n",
    "tmp['v1_m_h1_45'] = tmp['v1'] * np.cos(np.pi / 4) - tmp['h1'] * np.sin(np.pi / 4)\n",
    "tmp['v1_p_h1_60'] = tmp['v1'] * np.cos(np.pi / 3) + tmp['h1'] * np.sin(np.pi / 3)\n",
    "tmp['v1_m_h1_60'] = tmp['v1'] * np.cos(np.pi / 3) - tmp['h1'] * np.sin(np.pi / 3)\n",
    "\n",
    "\n",
    "\n",
    "tmp['v2_p_h2_30'] = tmp['v2'] * np.cos(np.pi / 6) + tmp['h2'] * np.sin(np.pi / 6)\n",
    "tmp['v2_m_h2_30'] = tmp['v2'] * np.cos(np.pi / 6) - tmp['h2'] * np.sin(np.pi / 6)\n",
    "tmp['v2_p_h2_45'] = tmp['v2'] * np.cos(np.pi / 4) + tmp['h2'] * np.sin(np.pi / 4)\n",
    "tmp['v2_m_h2_45'] = tmp['v2'] * np.cos(np.pi / 4) - tmp['h2'] * np.sin(np.pi / 4)\n",
    "tmp['v2_p_h2_60'] = tmp['v2'] * np.cos(np.pi / 3) + tmp['h2'] * np.sin(np.pi / 3)\n",
    "tmp['v2_m_h2_60'] = tmp['v2'] * np.cos(np.pi / 3) - tmp['h2'] * np.sin(np.pi / 3)\n",
    "\n",
    "\n",
    "tmp['v4_p_h4_30'] = tmp['v4'] * np.cos(np.pi / 6) + tmp['h4'] * np.sin(np.pi / 6)\n",
    "tmp['v4_m_h4_30'] = tmp['v4'] * np.cos(np.pi / 6) - tmp['h4'] * np.sin(np.pi / 6)\n",
    "tmp['v4_p_h4_45'] = tmp['v4'] * np.cos(np.pi / 4) + tmp['h4'] * np.sin(np.pi / 4)\n",
    "tmp['v4_m_h4_45'] = tmp['v4'] * np.cos(np.pi / 4) - tmp['h4'] * np.sin(np.pi / 4)\n",
    "tmp['v4_p_h4_60'] = tmp['v4'] * np.cos(np.pi / 3) + tmp['h4'] * np.sin(np.pi / 3)\n",
    "tmp['v4_m_h4_60'] = tmp['v4'] * np.cos(np.pi / 3) - tmp['h4'] * np.sin(np.pi / 3)\n",
    "\n",
    "\n",
    "tmp['v5_p_h5_30'] = tmp['v5'] * np.cos(np.pi / 6) + tmp['h5'] * np.sin(np.pi / 6)\n",
    "tmp['v5_m_h5_30'] = tmp['v5'] * np.cos(np.pi / 6) - tmp['h5'] * np.sin(np.pi / 6)\n",
    "tmp['v5_p_h5_45'] = tmp['v5'] * np.cos(np.pi / 4) + tmp['h5'] * np.sin(np.pi / 4)\n",
    "tmp['v5_m_h5_45'] = tmp['v5'] * np.cos(np.pi / 4) - tmp['h5'] * np.sin(np.pi / 4)\n",
    "tmp['v5_p_h5_60'] = tmp['v5'] * np.cos(np.pi / 3) + tmp['h5'] * np.sin(np.pi / 3)\n",
    "tmp['v5_m_h5_60'] = tmp['v5'] * np.cos(np.pi / 3) - tmp['h5'] * np.sin(np.pi / 3)\n",
    "\n",
    "\n",
    "tmp['x1_p_y1_30'] = tmp['x1'] * np.cos(np.pi / 6) + tmp['y1'] * np.sin(np.pi / 6)\n",
    "tmp['x1_m_y1_30'] = tmp['x1'] * np.cos(np.pi / 6) - tmp['y1'] * np.sin(np.pi / 6)\n",
    "tmp['x1_p_y1_45'] = tmp['x1'] * np.cos(np.pi / 4) + tmp['y1'] * np.sin(np.pi / 4)\n",
    "tmp['x1_m_y1_45'] = tmp['x1'] * np.cos(np.pi / 4) - tmp['y1'] * np.sin(np.pi / 4)\n",
    "tmp['x1_p_y1_60'] = tmp['x1'] * np.cos(np.pi / 3) + tmp['y1'] * np.sin(np.pi / 3)\n",
    "tmp['x1_m_y1_60'] = tmp['x1'] * np.cos(np.pi / 3) - tmp['y1'] * np.sin(np.pi / 3)\n",
    "\n",
    "\n",
    "tmp['x2_p_y2_30'] = tmp['x2'] * np.cos(np.pi / 6) + tmp['y2'] * np.sin(np.pi / 6)\n",
    "tmp['x2_m_y2_30'] = tmp['x2'] * np.cos(np.pi / 6) - tmp['y2'] * np.sin(np.pi / 6)\n",
    "tmp['x2_p_y2_45'] = tmp['x2'] * np.cos(np.pi / 4) + tmp['y2'] * np.sin(np.pi / 4)\n",
    "tmp['x2_m_y2_45'] = tmp['x2'] * np.cos(np.pi / 4) - tmp['y2'] * np.sin(np.pi / 4)\n",
    "tmp['x2_p_y2_60'] = tmp['x2'] * np.cos(np.pi / 3) + tmp['y2'] * np.sin(np.pi / 3)\n",
    "tmp['x2_m_y2_60'] = tmp['x2'] * np.cos(np.pi / 3) - tmp['y2'] * np.sin(np.pi / 3)"
   ]
  },
  {
   "cell_type": "code",
   "execution_count": null,
   "metadata": {
    "scrolled": false
   },
   "outputs": [],
   "source": [
    "tmp.corr()"
   ]
  },
  {
   "cell_type": "markdown",
   "metadata": {},
   "source": [
    "```\n",
    "01 / 23 / 56 / 78\n",
    "최고이지만  \n",
    "v1_p_h1_60    0.022131  \n",
    "v1_m_h1_45   -0.023351     \n",
    "v2_p_h2_60    0.056419        \n",
    "v2_m_h2_45   -0.059254      \n",
    "v4_p_h4_60    0.066445  \n",
    "v4_m_h4_45   -0.074285   \n",
    "v5_p_h5_30   -0.036715   \n",
    "v5_m_h5_30   -0.102824   \n",
    "\n",
    "많은 차이가 없어서 이렇게 맞춰줌  \n",
    "v1_p_h1_45  \n",
    "v1_m_h1_45     \n",
    "v2_p_h2_45         \n",
    "v2_m_h2_45        \n",
    "v4_p_h4_45    \n",
    "v4_m_h4_45     \n",
    "v5_p_h5_30     \n",
    "v5_m_h5_30\n",
    "```"
   ]
  },
  {
   "cell_type": "code",
   "execution_count": null,
   "metadata": {},
   "outputs": [],
   "source": [
    "tmp[['v1_p_h1_45',\n",
    "'v1_m_h1_45',\n",
    "'v2_p_h2_45',        \n",
    "'v2_m_h2_45',\n",
    "'v3',\n",
    "'v4_p_h4_45',  \n",
    "'v4_m_h4_45',     \n",
    "'v5_p_h5_30',    \n",
    "'v5_m_h5_30', 'surface','target']].corr()"
   ]
  },
  {
   "cell_type": "code",
   "execution_count": null,
   "metadata": {},
   "outputs": [],
   "source": [
    "# 0~8 번 이렇게 줄여보자. 이거에 surface만 추가해서 돌려보기.\n",
    "v1_m_h1_45   \n",
    "v2_m_h2_45\n",
    "v3\n",
    "v4_p_h4_30    \n",
    "v4_m_h4_30  \n",
    "v5_p_h5_30   \n",
    "v5_m_h5_30   "
   ]
  },
  {
   "cell_type": "code",
   "execution_count": null,
   "metadata": {},
   "outputs": [],
   "source": [
    "tmp.corr()['target']"
   ]
  },
  {
   "cell_type": "code",
   "execution_count": null,
   "metadata": {},
   "outputs": [],
   "source": []
  },
  {
   "cell_type": "code",
   "execution_count": null,
   "metadata": {},
   "outputs": [],
   "source": [
    "tmp['v1_p_h1'] = tmp['v1'] + tmp['h1']\n",
    "tmp['v1_m_h1'] = -tmp['v1'] + tmp['h1']\n",
    "tmp['v1_p_h1_30'] = tmp['v1'] * np.cos(np.pi / 6) + tmp['h1'] * np.sin(np.pi / 6)\n",
    "tmp['v1_m_h1_30'] = -tmp['v1'] * np.cos(np.pi / 6) + tmp['h1'] * np.sin(np.pi / 6)\n",
    "tmp['v1_p_h1_60'] = tmp['v1'] * np.cos(np.pi / 3) + tmp['h1'] * np.sin(np.pi / 3)\n",
    "tmp['v1_m_h1_60'] = -tmp['v1'] * np.cos(np.pi / 3) + tmp['h1'] * np.sin(np.pi / 3)\n",
    "\n",
    "\n",
    "tmp['v2_p_h2'] = tmp['v2'] + tmp['h2']\n",
    "tmp['v2_m_h2'] = -tmp['v2'] + tmp['h2']\n",
    "tmp['v2_p_h2_30'] = tmp['v2'] * np.cos(np.pi / 6) + tmp['h2'] * np.sin(np.pi / 6)\n",
    "tmp['v2_m_h2_30'] = -tmp['v2'] * np.cos(np.pi / 6) + tmp['h2'] * np.sin(np.pi / 6)\n",
    "tmp['v2_p_h2_60'] = tmp['v2'] * np.cos(np.pi / 3) + tmp['h2'] * np.sin(np.pi / 3)\n",
    "tmp['v2_m_h2_60'] = -tmp['v2'] * np.cos(np.pi / 3) + tmp['h2'] * np.sin(np.pi / 3)\n",
    "\n",
    "tmp['v4_p_h4'] = tmp['v4'] + tmp['h4']\n",
    "tmp['v4_m_h4'] = -tmp['v4'] + tmp['h4']\n",
    "tmp['v4_p_h4_30'] = tmp['v4'] * np.cos(np.pi / 6) + tmp['h4'] * np.sin(np.pi / 6)\n",
    "tmp['v4_m_h4_30'] = -tmp['v4'] * np.cos(np.pi / 6) + tmp['h4'] * np.sin(np.pi / 6)\n",
    "tmp['v4_p_h4_60'] = tmp['v4'] * np.cos(np.pi / 3) + tmp['h4'] * np.sin(np.pi / 3)\n",
    "tmp['v4_m_h4_60'] = -tmp['v4'] * np.cos(np.pi / 3) + tmp['h4'] * np.sin(np.pi / 3)\n",
    "\n",
    "tmp['v5_p_h5'] = tmp['v5'] + tmp['h5']\n",
    "tmp['v5_m_h5'] = -tmp['v5'] + tmp['h5']\n",
    "tmp['v5_p_h5_30'] = tmp['v5'] * np.cos(np.pi / 6) + tmp['h5'] * np.sin(np.pi / 6)\n",
    "tmp['v5_m_h5_30'] = -tmp['v5'] * np.cos(np.pi / 6) + tmp['h5'] * np.sin(np.pi / 6)\n",
    "tmp['v5_p_h5_60'] = tmp['v5'] * np.cos(np.pi / 3) + tmp['h5'] * np.sin(np.pi / 3)\n",
    "tmp['v5_m_h5_60'] = -tmp['v5'] * np.cos(np.pi / 3) + tmp['h5'] * np.sin(np.pi / 3)\n",
    "\n",
    "tmp['x1_p_y1'] = tmp['x1'] + tmp['y1']\n",
    "tmp['x1_m_y1'] = -tmp['x1'] + tmp['y1']\n",
    "tmp['x1_p_y1_30'] = tmp['x1'] * np.cos(np.pi / 6) + tmp['y1'] * np.sin(np.pi / 6)\n",
    "tmp['x1_p_y1_30'] = -tmp['x1'] * np.cos(np.pi / 6) + tmp['y1'] * np.sin(np.pi / 6)\n",
    "tmp['x1_p_y1_60'] = tmp['x1'] * np.cos(np.pi / 3) + tmp['y1'] * np.sin(np.pi / 3)\n",
    "tmp['x1_p_y1_60'] = -tmp['x1'] * np.cos(np.pi / 3) + tmp['y1'] * np.sin(np.pi / 3)\n",
    "\n",
    "tmp['x2_p_y2'] = tmp['x2'] + tmp['y2']\n",
    "tmp['x2_m_y2'] = -tmp['x2'] + tmp['y2']\n",
    "tmp['x2_p_y2_30'] = tmp['x2'] * np.cos(np.pi / 6) + tmp['y2'] * np.sin(np.pi / 6)\n",
    "tmp['x2_p_y2_30'] = -tmp['x2'] * np.cos(np.pi / 6) + tmp['y2'] * np.sin(np.pi / 6)\n",
    "tmp['x2_p_y2_60'] = tmp['x2'] * np.cos(np.pi / 3) + tmp['y2'] * np.sin(np.pi / 3)\n",
    "tmp['x2_p_y2_60'] = -tmp['x2'] * np.cos(np.pi / 3) + tmp['y2'] * np.sin(np.pi / 3)"
   ]
  },
  {
   "cell_type": "code",
   "execution_count": null,
   "metadata": {},
   "outputs": [],
   "source": [
    "tmp.corr()"
   ]
  },
  {
   "cell_type": "code",
   "execution_count": null,
   "metadata": {},
   "outputs": [],
   "source": [
    "tmp.corr()['target']"
   ]
  },
  {
   "cell_type": "code",
   "execution_count": null,
   "metadata": {},
   "outputs": [],
   "source": []
  },
  {
   "cell_type": "code",
   "execution_count": null,
   "metadata": {},
   "outputs": [],
   "source": []
  },
  {
   "cell_type": "code",
   "execution_count": null,
   "metadata": {},
   "outputs": [],
   "source": [
    "all_df = np.vstack([train,test])\n",
    "LEN_TRAIN = len(train)\n",
    "del train\n",
    "del test"
   ]
  },
  {
   "cell_type": "code",
   "execution_count": null,
   "metadata": {},
   "outputs": [],
   "source": [
    "all_df.shape"
   ]
  },
  {
   "cell_type": "code",
   "execution_count": null,
   "metadata": {},
   "outputs": [],
   "source": [
    "all_df = pd.DataFrame(all_df)\n",
    "all_df.columns = ['temp0', 'temp1', 'temp2', 'temp3', 'temp4', 'temp5', 'temp6', 'temp7', 'temp8', 'surface', 'GMI_y', 'GMI_x', 'DPR_y', 'DPR_x']\n",
    "all_df['surface'] = all_df['surface'].astype('int16')\n",
    "\n",
    "\n",
    "train_y = pd.DataFrame(train_y).rename(columns={0:'precipitation'})"
   ]
  },
  {
   "cell_type": "code",
   "execution_count": null,
   "metadata": {},
   "outputs": [],
   "source": [
    "177 103 55 5"
   ]
  },
  {
   "cell_type": "code",
   "execution_count": null,
   "metadata": {},
   "outputs": [],
   "source": [
    "print(all_df['GMI_y'].max(), all_df['GMI_y'].min())"
   ]
  },
  {
   "cell_type": "code",
   "execution_count": null,
   "metadata": {},
   "outputs": [],
   "source": [
    "print(all_df['GMI_x'].max(), all_df['GMI_x'].min())"
   ]
  },
  {
   "cell_type": "code",
   "execution_count": null,
   "metadata": {},
   "outputs": [],
   "source": [
    "print(all_df['DPR_y'].max(), all_df['DPR_y'].min())"
   ]
  },
  {
   "cell_type": "code",
   "execution_count": null,
   "metadata": {},
   "outputs": [],
   "source": [
    "print(all_df['DPR_x'].max(), all_df['DPR_x'].min())"
   ]
  },
  {
   "cell_type": "code",
   "execution_count": null,
   "metadata": {},
   "outputs": [],
   "source": [
    "import matplotlib.pyplot as plt\n",
    "import seaborn as sns\n",
    "\n",
    "plt.figure(figsize = (30,30))\n",
    "plt.plot(all_df['GMI_x'][:64000], all_df['GMI_y'][:64000])"
   ]
  },
  {
   "cell_type": "code",
   "execution_count": null,
   "metadata": {},
   "outputs": [],
   "source": [
    "import matplotlib.pyplot as plt\n",
    "import seaborn as sns\n",
    "\n",
    "plt.figure(figsize = (30,30))\n",
    "plt.plot(all_df['GMI_x'][:3200000], all_df['GMI_y'][:3200000])"
   ]
  },
  {
   "cell_type": "code",
   "execution_count": null,
   "metadata": {},
   "outputs": [],
   "source": [
    "# del train['temp1'], train['temp3']\n",
    "# train.corr()"
   ]
  },
  {
   "cell_type": "markdown",
   "metadata": {},
   "source": [
    "### 온도 반올림"
   ]
  },
  {
   "cell_type": "code",
   "execution_count": null,
   "metadata": {},
   "outputs": [],
   "source": [
    "for i in ['temp0', 'temp1', 'temp2', 'temp3', 'temp4', 'temp5', 'temp6', 'temp7', 'temp8']:\n",
    "    all_df[i] = round(train[i], 5)"
   ]
  },
  {
   "cell_type": "markdown",
   "metadata": {},
   "source": [
    "### 위도, 경도 반올림"
   ]
  },
  {
   "cell_type": "code",
   "execution_count": null,
   "metadata": {},
   "outputs": [],
   "source": [
    "all_df['GMI_x'] = round(all_df['GMI_x'], 5)\n",
    "all_df['GMI_y'] = round(all_df['GMI_y'], 5)\n",
    "all_df['DPR_x'] = round(all_df['DPR_x'], 5)\n",
    "all_df['DPR_y'] = round(all_df['DPR_y'], 5)"
   ]
  },
  {
   "cell_type": "markdown",
   "metadata": {},
   "source": [
    "### 위도, 경도 회전변환 "
   ]
  },
  {
   "cell_type": "code",
   "execution_count": null,
   "metadata": {},
   "outputs": [],
   "source": [
    "all_df['GMI_x_plus_y'] = all_df['GMI_x'] + all_df['GMI_y']\n",
    "all_df['GMI_x_minus_y'] = all_df['GMI_x'] - all_df['GMI_y']\n",
    "all_df['DPR_x_plus_y'] = all_df['DPR_x'] + all_df['DPR_y']\n",
    "all_df['DPR_x_minus_y'] = all_df['DPR_x'] - all_df['DPR_y']"
   ]
  },
  {
   "cell_type": "markdown",
   "metadata": {},
   "source": [
    "### 지표면 카테고리 4개로 묶음"
   ]
  },
  {
   "cell_type": "code",
   "execution_count": null,
   "metadata": {},
   "outputs": [],
   "source": [
    "all_df['surface_group'] = (all_df['surface'] / 100).astype('int16')"
   ]
  },
  {
   "cell_type": "markdown",
   "metadata": {},
   "source": [
    "### 데이터셋 나누기"
   ]
  },
  {
   "cell_type": "code",
   "execution_count": null,
   "metadata": {},
   "outputs": [],
   "source": [
    "train = all_df[:LEN_TRAIN]\n",
    "test = all_df[LEN_TRAIN:]"
   ]
  },
  {
   "cell_type": "code",
   "execution_count": null,
   "metadata": {},
   "outputs": [],
   "source": [
    "# from sklearn.preprocessing import StandardScaler\n",
    "# from sklearn.preprocessing import RobustScaler\n",
    "\n",
    "# ss = StandardScaler()\n",
    "# # rs = RobustScaler()\n",
    "# train = ss.fit_transform(train)\n",
    "\n",
    "# del ss"
   ]
  },
  {
   "cell_type": "code",
   "execution_count": null,
   "metadata": {},
   "outputs": [],
   "source": [
    "# import pickle\n",
    "\n",
    "# with open('inputs/train_ss.pickle', 'wb') as f:\n",
    "#     pickle.dump(train, f, protocol=4)\n",
    "    \n",
    "# with open('inputs/train_ss.pickle', 'rb') as f:\n",
    "#     train = pickle.load(f)\n",
    "    \n",
    "# with open('D:/inputs/24/train_y.pickle', 'rb') as f:\n",
    "#     train_y = pickle.load(f)\n",
    "# train_y = train_y.reshape(75957, 40, 40, 1)    \n",
    "# train_y = train_y.reshape(train_y.shape[0] * train_y.shape[1] * train_y.shape[2], train_y.shape[3])"
   ]
  },
  {
   "cell_type": "markdown",
   "metadata": {},
   "source": [
    "### RandomForest Regressor 모델"
   ]
  },
  {
   "cell_type": "code",
   "execution_count": null,
   "metadata": {},
   "outputs": [],
   "source": [
    "# from sklearn.ensemble import RandomForestRegressor\n",
    "# rf = RandomForestRegressor(criterion='mae', verbose=1, n_jobs=-1, max_depth=5)\n",
    "# rf.fit(train, target)\n",
    "# print(mae_over_fscore(target, rf.predict(train)))"
   ]
  },
  {
   "cell_type": "markdown",
   "metadata": {},
   "source": [
    "### Lidge 모델"
   ]
  },
  {
   "cell_type": "code",
   "execution_count": null,
   "metadata": {},
   "outputs": [],
   "source": [
    "# from sklearn.linear_model import RidgeCV, Ridge, Lasso\n",
    "# from sklearn.metrics import mean_absolute_error\n",
    "\n",
    "# for alpha in [1, 10, 50, 100, 200, 300]:\n",
    "#     ridge = Ridge(alpha=alpha)\n",
    "#     ridge.fit(train, target)\n",
    "#     print(alpha)\n",
    "#     print(mae_over_fscore(target, ridge.predict(train)))\n",
    "#     print('\\n')"
   ]
  },
  {
   "cell_type": "markdown",
   "metadata": {},
   "source": [
    "### Lasso 모델 "
   ]
  },
  {
   "cell_type": "code",
   "execution_count": null,
   "metadata": {},
   "outputs": [],
   "source": [
    "# for alpha in [1, 10, 100]:\n",
    "#     lasso = Lasso()\n",
    "#     lasso.fit(train, target)\n",
    "#     print(mae_over_fscore(target, lasso.predict(train)))"
   ]
  },
  {
   "cell_type": "markdown",
   "metadata": {},
   "source": [
    "### Catboost Regressor 모델"
   ]
  },
  {
   "cell_type": "code",
   "execution_count": null,
   "metadata": {},
   "outputs": [],
   "source": [
    "from catboost import CatBoostRegressor\n",
    "# category 데이터에 특히 잘 적용되고,\n",
    "# 컬럼 랜덤하게 뽑고, row도 랜덤하게 뽑아서 랜덤포레스트와 비슷한 느낌. 파라미터 설정에 신경쓰지 않아도 어느 정도점수 잘나오는 모델\n",
    "\n",
    "cb = CatBoostRegressor(iterations=10, loss_function='MAE', random_seed = 30)\n",
    "cb.fit(train, train_y)\n"
   ]
  },
  {
   "cell_type": "code",
   "execution_count": null,
   "metadata": {},
   "outputs": [],
   "source": [
    "print(mae_over_fscore(train_y, cb.predict(train)))"
   ]
  },
  {
   "cell_type": "code",
   "execution_count": null,
   "metadata": {},
   "outputs": [],
   "source": [
    "cb.fit(train, train_y, init_model=cb)\n",
    "print(mae_over_fscore(train_y, cb.predict(train)))"
   ]
  },
  {
   "cell_type": "code",
   "execution_count": null,
   "metadata": {},
   "outputs": [],
   "source": [
    "cb.fit(train, train_y, init_model=cb)\n",
    "print(mae_over_fscore(train_y, cb.predict(train)))"
   ]
  },
  {
   "cell_type": "code",
   "execution_count": null,
   "metadata": {
    "scrolled": true
   },
   "outputs": [],
   "source": [
    "pd.DataFrame(cb.get_feature_importance(), index = train.columns)"
   ]
  },
  {
   "cell_type": "code",
   "execution_count": null,
   "metadata": {},
   "outputs": [],
   "source": [
    "cb.fit(train, train_y, init_model=cb)\n",
    "print(mae_over_fscore(train_y, cb.predict(train)))"
   ]
  },
  {
   "cell_type": "code",
   "execution_count": null,
   "metadata": {},
   "outputs": [],
   "source": [
    "cb.fit(train, train_y, init_model=cb)\n",
    "print(mae_over_fscore(train_y, cb.predict(train)))"
   ]
  },
  {
   "cell_type": "code",
   "execution_count": null,
   "metadata": {},
   "outputs": [],
   "source": [
    "cb.fit(train, train_y, init_model=cb)\n",
    "print(mae_over_fscore(train_y, cb.predict(train)))"
   ]
  },
  {
   "cell_type": "code",
   "execution_count": null,
   "metadata": {},
   "outputs": [],
   "source": [
    "cb.fit(train, train_y, init_model=cb)\n",
    "print(mae_over_fscore(train_y, cb.predict(train)))"
   ]
  },
  {
   "cell_type": "code",
   "execution_count": null,
   "metadata": {},
   "outputs": [],
   "source": [
    "cb.fit(train, train_y, init_model=cb)\n",
    "print(mae_over_fscore(train_y, cb.predict(train)))"
   ]
  },
  {
   "cell_type": "code",
   "execution_count": null,
   "metadata": {},
   "outputs": [],
   "source": []
  },
  {
   "cell_type": "code",
   "execution_count": null,
   "metadata": {},
   "outputs": [],
   "source": []
  },
  {
   "cell_type": "code",
   "execution_count": null,
   "metadata": {},
   "outputs": [],
   "source": []
  },
  {
   "cell_type": "code",
   "execution_count": null,
   "metadata": {},
   "outputs": [],
   "source": [
    "cb.save_model(\"cb_model_40\",\n",
    "           format=\"cbm\",\n",
    "           export_parameters=None,\n",
    "           pool=None)"
   ]
  },
  {
   "cell_type": "code",
   "execution_count": null,
   "metadata": {},
   "outputs": [],
   "source": [
    "# catboost model load - continuous fit 가능\n",
    "# cb = CatBoostRegressor(iterations=10, loss_function='MAE')\n",
    "# cb.load_model(\"cb_model_40\")\n",
    "# cb.fit(train, target, init_model=cb1)"
   ]
  },
  {
   "cell_type": "code",
   "execution_count": null,
   "metadata": {},
   "outputs": [],
   "source": [
    "print(mae_over_fscore(target, cb1.predict(train)))"
   ]
  },
  {
   "cell_type": "markdown",
   "metadata": {},
   "source": [
    "10 - 3.8450220123151535  \n",
    "20 - 3.169688157233239  \n",
    "30 - 2.930901411484702  \n",
    "40 - 2.7957138063731715"
   ]
  },
  {
   "cell_type": "markdown",
   "metadata": {},
   "source": [
    "### lightgbm 모델"
   ]
  },
  {
   "cell_type": "code",
   "execution_count": null,
   "metadata": {},
   "outputs": [],
   "source": [
    "from lightgbm import LGBMRegressor\n",
    "\n",
    "lgb = LGBMRegressor(device='cpu', n_estimators = 40)\n",
    "lgb.fit(train, target)"
   ]
  },
  {
   "cell_type": "code",
   "execution_count": null,
   "metadata": {},
   "outputs": [],
   "source": [
    "print(mae_over_fscore(target, lgb.predict(train)))"
   ]
  },
  {
   "cell_type": "markdown",
   "metadata": {},
   "source": [
    "- 10 - 5.615421879934444\n",
    "- 20 - 2.5261612717784985\n",
    "- 30 - 2.490089590398271\n",
    "- 40 - 2.478701832641337"
   ]
  },
  {
   "cell_type": "markdown",
   "metadata": {},
   "source": [
    "아이디어\n",
    "- temp0~8를 pca로 축소하기"
   ]
  }
 ],
 "metadata": {
  "kernelspec": {
   "display_name": "Python 3",
   "language": "python",
   "name": "python3"
  },
  "language_info": {
   "codemirror_mode": {
    "name": "ipython",
    "version": 3
   },
   "file_extension": ".py",
   "mimetype": "text/x-python",
   "name": "python",
   "nbconvert_exporter": "python",
   "pygments_lexer": "ipython3",
   "version": "3.6.8"
  },
  "toc": {
   "base_numbering": 1,
   "nav_menu": {},
   "number_sections": false,
   "sideBar": true,
   "skip_h1_title": false,
   "title_cell": "Table of Contents",
   "title_sidebar": "Contents",
   "toc_cell": false,
   "toc_position": {
    "height": "calc(100% - 180px)",
    "left": "10px",
    "top": "150px",
    "width": "165px"
   },
   "toc_section_display": true,
   "toc_window_display": true
  }
 },
 "nbformat": 4,
 "nbformat_minor": 4
}
