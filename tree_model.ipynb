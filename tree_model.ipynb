{
 "cells": [
  {
   "cell_type": "markdown",
   "metadata": {},
   "source": [
    "2018년 데이터만 가지고 트리모델 만드는 중"
   ]
  },
  {
   "cell_type": "code",
   "execution_count": null,
   "metadata": {},
   "outputs": [],
   "source": [
    "import pickle\n",
    "import numpy as np\n",
    "import pandas as pd\n",
    "import gc\n",
    "\n",
    "\n",
    "with open('D:/inputs/24/tree_2018.pickle', 'rb') as f:\n",
    "    train = pickle.load(f)\n",
    "with open('D:/inputs/24/tree_y_2018.pickle', 'rb') as f:\n",
    "    train_y = pickle.load(f)\n",
    "train_y = train_y.reshape(train_y.shape[0],40, 40, 1)    \n",
    "with open('D:/inputs/24/test.pickle', 'rb') as f:\n",
    "    test = pickle.load(f)\n",
    "    \n"
   ]
  },
  {
   "cell_type": "code",
   "execution_count": null,
   "metadata": {},
   "outputs": [],
   "source": [
    "pd.options.display.max_columns = 100"
   ]
  },
  {
   "cell_type": "code",
   "execution_count": null,
   "metadata": {},
   "outputs": [],
   "source": [
    "from custom_metric import *"
   ]
  },
  {
   "cell_type": "code",
   "execution_count": null,
   "metadata": {},
   "outputs": [],
   "source": [
    "train = train.reshape(train.shape[0] * train.shape[1] * train.shape[2], train.shape[3])\n",
    "test = test.reshape(test.shape[0] * test.shape[1] * test.shape[2], test.shape[3])\n",
    "train_y = train_y.reshape(train_y.shape[0] * train_y.shape[1] * train_y.shape[2], train_y.shape[3])\n",
    "train = np.concatenate([train, train_y], axis=-1)"
   ]
  },
  {
   "cell_type": "code",
   "execution_count": null,
   "metadata": {},
   "outputs": [],
   "source": [
    "train = pd.DataFrame(train)\n",
    "test = pd.DataFrame(test)\n",
    "LEN_TRAIN = len(train)"
   ]
  },
  {
   "cell_type": "code",
   "execution_count": null,
   "metadata": {},
   "outputs": [],
   "source": [
    "all_df = pd.concat([train, test])"
   ]
  },
  {
   "cell_type": "code",
   "execution_count": null,
   "metadata": {},
   "outputs": [],
   "source": [
    "del train\n",
    "del test"
   ]
  },
  {
   "cell_type": "code",
   "execution_count": null,
   "metadata": {},
   "outputs": [],
   "source": [
    "all_df.columns = ['v1', 'h1', 'v2', 'h2', 'v3', 'v4', 'h4', 'v5', 'h5', 'surface', 'GMI_y', 'GMI_x', 'DPR_y', 'DPR_x', 'target']\n",
    "all_df['surface'] = all_df['surface'].astype('int16')"
   ]
  },
  {
   "cell_type": "code",
   "execution_count": null,
   "metadata": {},
   "outputs": [],
   "source": [
    "del all_df['GMI_y']\n",
    "del all_df['GMI_x']\n",
    "del all_df['DPR_y']\n",
    "del all_df['DPR_x']"
   ]
  },
  {
   "cell_type": "code",
   "execution_count": null,
   "metadata": {},
   "outputs": [],
   "source": [
    "all_df['surface1'] = all_df['surface'] // 100"
   ]
  },
  {
   "cell_type": "code",
   "execution_count": null,
   "metadata": {},
   "outputs": [],
   "source": [
    "all_df['surface1']  = all_df['surface1'].astype('int8')"
   ]
  },
  {
   "cell_type": "code",
   "execution_count": null,
   "metadata": {},
   "outputs": [],
   "source": [
    "all_df['vh1_1'] = all_df['v1'] * np.cos(np.pi / 4) + all_df['h1'] * np.sin(np.pi / 4)  \n",
    "all_df['vh1_2'] = all_df['v1'] * np.cos(np.pi / 4) - all_df['h1'] * np.sin(np.pi / 4)  \n",
    "\n",
    "all_df['vh2_1'] = all_df['v2'] * np.cos(np.pi / 4) + all_df['h2'] * np.sin(np.pi / 4)\n",
    "all_df['vh2_2'] = all_df['v2'] * np.cos(np.pi / 4) - all_df['h2'] * np.sin(np.pi / 4)\n",
    "\n",
    "all_df['vh4_1'] = all_df['v4'] * np.cos(np.pi / 4) + all_df['h4'] * np.sin(np.pi / 4)\n",
    "all_df['vh4_2'] = all_df['v4'] * np.cos(np.pi / 4) - all_df['h4'] * np.sin(np.pi / 4)\n",
    "\n",
    "all_df['vh5_1'] = all_df['v5'] * np.cos(np.pi / 6) + all_df['h5'] * np.sin(np.pi / 6)\n",
    "all_df['vh5_2'] = all_df['v5'] * np.cos(np.pi / 6) - all_df['h5'] * np.sin(np.pi / 6)"
   ]
  },
  {
   "cell_type": "code",
   "execution_count": null,
   "metadata": {
    "scrolled": true
   },
   "outputs": [],
   "source": [
    "all_df.columns"
   ]
  },
  {
   "cell_type": "code",
   "execution_count": null,
   "metadata": {},
   "outputs": [],
   "source": [
    "for i in ['v1', 'h1', 'v2', 'h2', 'v3', 'v4', 'h4', 'v5', 'h5', 'vh1_1', 'vh1_2', 'vh2_1', 'vh2_2', 'vh4_1', 'vh4_2', 'vh5_1', 'vh5_2']:\n",
    "    all_df[i] = round(all_df[i], 0)"
   ]
  },
  {
   "cell_type": "code",
   "execution_count": null,
   "metadata": {},
   "outputs": [],
   "source": [
    "surf1 = all_df.groupby('surface1')['target'].mean().rename('surf1_mean')\n",
    "all_df = all_df.merge(surf1, how='left', on='surface1')\n",
    "del surf1"
   ]
  },
  {
   "cell_type": "code",
   "execution_count": null,
   "metadata": {},
   "outputs": [],
   "source": [
    "surf = all_df.groupby('surface')['target'].mean().rename('surf_mean')\n",
    "all_df = all_df.merge(surf, how='left', on='surface')\n",
    "del surf"
   ]
  },
  {
   "cell_type": "code",
   "execution_count": null,
   "metadata": {},
   "outputs": [],
   "source": [
    "surf1 = all_df.groupby('surface1')['target'].std().rename('surf1_std')\n",
    "all_df = all_df.merge(surf1, how='left', on='surface1')\n",
    "del surf1"
   ]
  },
  {
   "cell_type": "code",
   "execution_count": null,
   "metadata": {},
   "outputs": [],
   "source": [
    "surf = all_df.groupby('surface')['target'].std().rename('surf_std')\n",
    "all_df = all_df.merge(surf, how='left', on='surface')\n",
    "del surf"
   ]
  },
  {
   "cell_type": "code",
   "execution_count": null,
   "metadata": {},
   "outputs": [],
   "source": [
    "all_df.head()"
   ]
  },
  {
   "cell_type": "markdown",
   "metadata": {},
   "source": [
    "### 데이터셋 나누기"
   ]
  },
  {
   "cell_type": "code",
   "execution_count": null,
   "metadata": {},
   "outputs": [],
   "source": [
    "del all_df['target']\n",
    "train = all_df[:LEN_TRAIN]\n",
    "test = all_df[LEN_TRAIN:]"
   ]
  },
  {
   "cell_type": "code",
   "execution_count": null,
   "metadata": {},
   "outputs": [],
   "source": [
    "del all_df"
   ]
  },
  {
   "cell_type": "code",
   "execution_count": null,
   "metadata": {},
   "outputs": [],
   "source": [
    "train_y = pd.DataFrame(train_y)"
   ]
  },
  {
   "cell_type": "code",
   "execution_count": null,
   "metadata": {},
   "outputs": [],
   "source": [
    "from sklearn.model_selection import train_test_split\n",
    "train, val, train_y, val_y = train_test_split(train, train_y, test_size=0.05, random_state=30)"
   ]
  },
  {
   "cell_type": "code",
   "execution_count": null,
   "metadata": {},
   "outputs": [],
   "source": [
    "# from sklearn.preprocessing import StandardScaler\n",
    "# from sklearn.preprocessing import RobustScaler\n",
    "\n",
    "# ss = StandardScaler()\n",
    "# # rs = RobustScaler()\n",
    "# train = ss.fit_transform(train)\n",
    "\n",
    "# del ss"
   ]
  },
  {
   "cell_type": "code",
   "execution_count": null,
   "metadata": {},
   "outputs": [],
   "source": [
    "# import pickle\n",
    "\n",
    "# with open('inputs/train_ss.pickle', 'wb') as f:\n",
    "#     pickle.dump(train, f, protocol=4)\n",
    "    \n",
    "# with open('inputs/train_ss.pickle', 'rb') as f:\n",
    "#     train = pickle.load(f)\n",
    "    \n",
    "# with open('D:/inputs/24/train_y.pickle', 'rb') as f:\n",
    "#     train_y = pickle.load(f)\n",
    "# train_y = train_y.reshape(75957, 40, 40, 1)    \n",
    "# train_y = train_y.reshape(train_y.shape[0] * train_y.shape[1] * train_y.shape[2], train_y.shape[3])"
   ]
  },
  {
   "cell_type": "markdown",
   "metadata": {},
   "source": [
    "### RandomForest Regressor 모델"
   ]
  },
  {
   "cell_type": "code",
   "execution_count": null,
   "metadata": {},
   "outputs": [],
   "source": [
    "# from sklearn.ensemble import RandomForestRegressor\n",
    "# rf = RandomForestRegressor(criterion='mae', verbose=1, n_jobs=-1, max_depth=5)\n",
    "# rf.fit(train, target)\n",
    "# print(mae_over_fscore(target, rf.predict(train)))"
   ]
  },
  {
   "cell_type": "markdown",
   "metadata": {},
   "source": [
    "### Lidge 모델"
   ]
  },
  {
   "cell_type": "code",
   "execution_count": null,
   "metadata": {},
   "outputs": [],
   "source": [
    "# from sklearn.linear_model import RidgeCV, Ridge, Lasso\n",
    "# from sklearn.metrics import mean_absolute_error\n",
    "\n",
    "# for alpha in [1, 10, 50, 100, 200, 300]:\n",
    "#     ridge = Ridge(alpha=alpha)\n",
    "#     ridge.fit(train, target)\n",
    "#     print(alpha)\n",
    "#     print(mae_over_fscore(target, ridge.predict(train)))\n",
    "#     print('\\n')"
   ]
  },
  {
   "cell_type": "markdown",
   "metadata": {},
   "source": [
    "### Lasso 모델 "
   ]
  },
  {
   "cell_type": "code",
   "execution_count": null,
   "metadata": {},
   "outputs": [],
   "source": [
    "# for alpha in [1, 10, 100]:\n",
    "#     lasso = Lasso()\n",
    "#     lasso.fit(train, target)\n",
    "#     print(mae_over_fscore(target, lasso.predict(train)))"
   ]
  },
  {
   "cell_type": "markdown",
   "metadata": {},
   "source": [
    "### Catboost Regressor 모델"
   ]
  },
  {
   "cell_type": "code",
   "execution_count": null,
   "metadata": {
    "scrolled": true
   },
   "outputs": [],
   "source": [
    "from catboost import CatBoostRegressor\n",
    "# category 데이터에 특히 잘 적용되고,\n",
    "# 컬럼 랜덤하게 뽑고, row도 랜덤하게 뽑아서 랜덤포레스트와 비슷한 느낌. 파라미터 설정에 신경쓰지 않아도 어느 정도점수 잘나오는 모델\n",
    "\n",
    "cb = CatBoostRegressor(iterations=300, loss_function='MAE', random_seed = 30, task_type=\"GPU\")\n",
    "cb.fit(train, np.log(train_y+1), eval_set=(val, np.log(val_y+1)), early_stopping_rounds=10)"
   ]
  },
  {
   "cell_type": "code",
   "execution_count": null,
   "metadata": {},
   "outputs": [],
   "source": [
    "print(mae_over_fscore(train_y, np.exp(cb.predict(train)) - 1 ))"
   ]
  },
  {
   "cell_type": "code",
   "execution_count": null,
   "metadata": {},
   "outputs": [],
   "source": [
    "print(mae_over_fscore(val_y, np.exp(cb.predict(val)) - 1 ))"
   ]
  },
  {
   "cell_type": "code",
   "execution_count": null,
   "metadata": {},
   "outputs": [],
   "source": []
  },
  {
   "cell_type": "code",
   "execution_count": null,
   "metadata": {},
   "outputs": [],
   "source": []
  },
  {
   "cell_type": "code",
   "execution_count": null,
   "metadata": {},
   "outputs": [],
   "source": [
    "cb.fit(train, train_y, init_model=cb)\n",
    "print(mae_over_fscore(train_y, cb.predict(train)))"
   ]
  },
  {
   "cell_type": "code",
   "execution_count": null,
   "metadata": {},
   "outputs": [],
   "source": [
    "cb.fit(train, train_y, init_model=cb)\n",
    "print(mae_over_fscore(train_y, cb.predict(train)))"
   ]
  },
  {
   "cell_type": "code",
   "execution_count": null,
   "metadata": {
    "scrolled": true
   },
   "outputs": [],
   "source": [
    "pd.DataFrame(cb.get_feature_importance(), index = train.columns)"
   ]
  },
  {
   "cell_type": "code",
   "execution_count": null,
   "metadata": {},
   "outputs": [],
   "source": [
    "cb.fit(train, train_y, init_model=cb)\n",
    "print(mae_over_fscore(train_y, cb.predict(train)))"
   ]
  },
  {
   "cell_type": "code",
   "execution_count": null,
   "metadata": {},
   "outputs": [],
   "source": [
    "cb.fit(train, train_y, init_model=cb)\n",
    "print(mae_over_fscore(train_y, cb.predict(train)))"
   ]
  },
  {
   "cell_type": "code",
   "execution_count": null,
   "metadata": {},
   "outputs": [],
   "source": [
    "cb.fit(train, train_y, init_model=cb)\n",
    "print(mae_over_fscore(train_y, cb.predict(train)))"
   ]
  },
  {
   "cell_type": "code",
   "execution_count": null,
   "metadata": {},
   "outputs": [],
   "source": [
    "cb.fit(train, train_y, init_model=cb)\n",
    "print(mae_over_fscore(train_y, cb.predict(train)))"
   ]
  },
  {
   "cell_type": "code",
   "execution_count": null,
   "metadata": {},
   "outputs": [],
   "source": [
    "cb.fit(train, train_y, init_model=cb)\n",
    "print(mae_over_fscore(train_y, cb.predict(train)))"
   ]
  },
  {
   "cell_type": "code",
   "execution_count": null,
   "metadata": {},
   "outputs": [],
   "source": []
  },
  {
   "cell_type": "code",
   "execution_count": null,
   "metadata": {},
   "outputs": [],
   "source": []
  },
  {
   "cell_type": "code",
   "execution_count": null,
   "metadata": {},
   "outputs": [],
   "source": []
  },
  {
   "cell_type": "code",
   "execution_count": null,
   "metadata": {},
   "outputs": [],
   "source": [
    "cb.save_model(\"cb_model_40\",\n",
    "           format=\"cbm\",\n",
    "           export_parameters=None,\n",
    "           pool=None)"
   ]
  },
  {
   "cell_type": "code",
   "execution_count": null,
   "metadata": {},
   "outputs": [],
   "source": [
    "# catboost model load - continuous fit 가능\n",
    "# cb = CatBoostRegressor(iterations=10, loss_function='MAE')\n",
    "# cb.load_model(\"cb_model_40\")\n",
    "# cb.fit(train, target, init_model=cb1)"
   ]
  },
  {
   "cell_type": "code",
   "execution_count": null,
   "metadata": {},
   "outputs": [],
   "source": [
    "print(mae_over_fscore(target, cb1.predict(train)))"
   ]
  },
  {
   "cell_type": "markdown",
   "metadata": {},
   "source": [
    "10 - 3.8450220123151535  \n",
    "20 - 3.169688157233239  \n",
    "30 - 2.930901411484702  \n",
    "40 - 2.7957138063731715"
   ]
  },
  {
   "cell_type": "markdown",
   "metadata": {},
   "source": [
    "### lightgbm 모델"
   ]
  },
  {
   "cell_type": "code",
   "execution_count": null,
   "metadata": {
    "scrolled": true
   },
   "outputs": [],
   "source": [
    "from lightgbm import LGBMRegressor\n",
    "\n",
    "lgb = LGBMRegressor(device='cpu', n_estimators = 400, early_stopping_rounds=10)\n",
    "lgb.fit(train, train_y, eval_set=(val, val_y))"
   ]
  },
  {
   "cell_type": "code",
   "execution_count": null,
   "metadata": {},
   "outputs": [],
   "source": [
    "print(mae_over_fscore(train_y, lgb.predict(train)))"
   ]
  },
  {
   "cell_type": "code",
   "execution_count": null,
   "metadata": {},
   "outputs": [],
   "source": [
    "print(mae_over_fscore(val_y, lgb.predict(val)))"
   ]
  },
  {
   "cell_type": "markdown",
   "metadata": {},
   "source": [
    "- 10 - 5.615421879934444\n",
    "- 20 - 2.5261612717784985\n",
    "- 30 - 2.490089590398271\n",
    "- 40 - 2.478701832641337"
   ]
  },
  {
   "cell_type": "markdown",
   "metadata": {},
   "source": [
    "아이디어\n",
    "- temp0~8를 pca로 축소하기"
   ]
  }
 ],
 "metadata": {
  "kernelspec": {
   "display_name": "Python 3",
   "language": "python",
   "name": "python3"
  },
  "language_info": {
   "codemirror_mode": {
    "name": "ipython",
    "version": 3
   },
   "file_extension": ".py",
   "mimetype": "text/x-python",
   "name": "python",
   "nbconvert_exporter": "python",
   "pygments_lexer": "ipython3",
   "version": "3.6.8"
  },
  "toc": {
   "base_numbering": 1,
   "nav_menu": {},
   "number_sections": false,
   "sideBar": true,
   "skip_h1_title": false,
   "title_cell": "Table of Contents",
   "title_sidebar": "Contents",
   "toc_cell": false,
   "toc_position": {
    "height": "calc(100% - 180px)",
    "left": "10px",
    "top": "150px",
    "width": "165px"
   },
   "toc_section_display": true,
   "toc_window_display": true
  }
 },
 "nbformat": 4,
 "nbformat_minor": 4
}
