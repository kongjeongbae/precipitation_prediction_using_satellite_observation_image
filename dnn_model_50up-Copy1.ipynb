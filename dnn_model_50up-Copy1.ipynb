{
 "cells": [
  {
   "cell_type": "markdown",
   "metadata": {},
   "source": [
    "## 데이터 및 라이브러리 로드"
   ]
  },
  {
   "cell_type": "code",
   "execution_count": null,
   "metadata": {},
   "outputs": [],
   "source": [
    "import os\n",
    "import random\n",
    "import pickle\n",
    "import numpy as np\n",
    "import pandas as pd\n",
    "import gc\n",
    "import tensorflow as tf\n",
    "from custom_metric import *\n",
    "import tensorflow_addons as tfa\n",
    "\n",
    "SEED = 30\n",
    "np.random.seed(SEED)\n",
    "random.seed(SEED)\n",
    "tf.random.set_seed(SEED)"
   ]
  },
  {
   "cell_type": "code",
   "execution_count": null,
   "metadata": {},
   "outputs": [],
   "source": [
    "%%time\n",
    "# 약 20초 걸림\n",
    "with open('D:/inputs/24/train50.pickle', 'rb') as f:\n",
    "    train = pickle.load(f)\n",
    "with open('D:/inputs/24/train_y50.pickle', 'rb') as f:\n",
    "    train_y = pickle.load(f)\n",
    "    train_y = train_y.reshape(train_y.shape[0], 40, 40, 1)\n",
    "\n",
    "\n",
    "with open('D:/inputs/24/test.pickle', 'rb') as f:\n",
    "    TEST = pickle.load(f)\n",
    "TEST = TEST[:, :, :, :10]    \n",
    "# 아웃라이어 수정\n",
    "# train[1,16, 24, -2] = 163.05731201"
   ]
  },
  {
   "cell_type": "markdown",
   "metadata": {},
   "source": [
    "## 회전변환"
   ]
  },
  {
   "cell_type": "code",
   "execution_count": null,
   "metadata": {},
   "outputs": [],
   "source": [
    "## 회전변환시 마이너스(-) 하는 경우, 제곱을 해주면 target값과의 상관관계가 높아짐. 테스트해볼것!\n",
    "# v1_m_h1 = ((train[:, :, :, 0] * np.cos(np.pi / 4) - train[:, :, :, 1] * np.sin(np.pi / 4)) ** 0.5) / 100"
   ]
  },
  {
   "cell_type": "code",
   "execution_count": null,
   "metadata": {},
   "outputs": [],
   "source": [
    "v1_m_h1 = train[:, :, :, 0] * np.cos(np.pi / 4) - train[:, :, :, 1] * np.sin(np.pi / 4)  \n",
    "v1_p_h1 = train[:, :, :, 0] * np.cos(np.pi / 4) + train[:, :, :, 1] * np.sin(np.pi / 4)  \n",
    "train[:, :, :, 0] = v1_m_h1\n",
    "train[:, :, :, 1] = v1_p_h1 \n",
    "del v1_m_h1\n",
    "del v1_p_h1\n",
    "\n",
    "v2_m_h2 = train[:, :, :, 2] * np.cos(np.pi / 4) - train[:, :, :, 3] * np.sin(np.pi / 4)\n",
    "v2_p_h2 = train[:, :, :, 2] * np.cos(np.pi / 4) + train[:, :, :, 3] * np.sin(np.pi / 4)\n",
    "train[:, :, :, 2] = v2_m_h2\n",
    "train[:, :, :, 3] = v2_p_h2 \n",
    "del v2_m_h2\n",
    "del v2_p_h2\n"
   ]
  },
  {
   "cell_type": "code",
   "execution_count": null,
   "metadata": {},
   "outputs": [],
   "source": [
    "v1_m_h1 = TEST[:, :, :, 0] * np.cos(np.pi / 4) - TEST[:, :, :, 1] * np.sin(np.pi / 4)  \n",
    "v1_p_h1 = TEST[:, :, :, 0] * np.cos(np.pi / 4) + TEST[:, :, :, 1] * np.sin(np.pi / 4)  \n",
    "TEST[:, :, :, 0] = v1_m_h1\n",
    "TEST[:, :, :, 1] = v1_p_h1 \n",
    "del v1_m_h1\n",
    "del v1_p_h1\n",
    "\n",
    "v2_m_h2 = TEST[:, :, :, 2] * np.cos(np.pi / 4) - TEST[:, :, :, 3] * np.sin(np.pi / 4)\n",
    "v2_p_h2 = TEST[:, :, :, 2] * np.cos(np.pi / 4) + TEST[:, :, :, 3] * np.sin(np.pi / 4)\n",
    "TEST[:, :, :, 2] = v2_m_h2\n",
    "TEST[:, :, :, 3] = v2_p_h2 \n",
    "del v2_m_h2\n",
    "del v2_p_h2"
   ]
  },
  {
   "cell_type": "code",
   "execution_count": null,
   "metadata": {},
   "outputs": [],
   "source": [
    "v4_p_h4_30 = train[:, :, :, 5] * np.cos(np.pi / 6) + train[:, :, :, 6] * np.sin(np.pi / 6)\n",
    "v4_m_h4_30 = train[:, :, :, 5] * np.cos(np.pi / 6) - train[:, :, :, 6] * np.sin(np.pi / 6)\n",
    "train[:, :, :, 5] = v4_p_h4_30\n",
    "train[:, :, :, 6] = v4_m_h4_30\n",
    "\n",
    "v5_p_h5_30 = train[:, :, :, 7] * np.cos(np.pi / 6) + train[:, :, :, 8] * np.sin(np.pi / 6)\n",
    "v5_m_h5_30 = train[:, :, :, 7] * np.cos(np.pi / 6) - train[:, :, :, 8] * np.sin(np.pi / 6)\n",
    "train[:, :, :, 7] = v5_p_h5_30\n",
    "train[:, :, :, 8] = v5_m_h5_30\n",
    "\n",
    "del v4_p_h4_30\n",
    "del v4_m_h4_30\n",
    "del v5_p_h5_30\n",
    "del v5_m_h5_30"
   ]
  },
  {
   "cell_type": "code",
   "execution_count": null,
   "metadata": {},
   "outputs": [],
   "source": [
    "v4_p_h4_30 = TEST[:, :, :, 5] * np.cos(np.pi / 6) + TEST[:, :, :, 6] * np.sin(np.pi / 6)\n",
    "v4_m_h4_30 = TEST[:, :, :, 5] * np.cos(np.pi / 6) - TEST[:, :, :, 6] * np.sin(np.pi / 6)\n",
    "TEST[:, :, :, 5] = v4_p_h4_30\n",
    "TEST[:, :, :, 6] = v4_m_h4_30\n",
    "\n",
    "v5_p_h5_30 = TEST[:, :, :, 7] * np.cos(np.pi / 6) + TEST[:, :, :, 8] * np.sin(np.pi / 6)\n",
    "v5_m_h5_30 = TEST[:, :, :, 7] * np.cos(np.pi / 6) - TEST[:, :, :, 8] * np.sin(np.pi / 6)\n",
    "TEST[:, :, :, 7] = v5_p_h5_30\n",
    "TEST[:, :, :, 8] = v5_m_h5_30\n",
    "\n",
    "del v4_p_h4_30\n",
    "del v4_m_h4_30\n",
    "del v5_p_h5_30\n",
    "del v5_m_h5_30"
   ]
  },
  {
   "cell_type": "code",
   "execution_count": null,
   "metadata": {},
   "outputs": [],
   "source": [
    "# 4개의 경도, 위도 정보 삭제함.\n",
    "train = train[:, :, :, :10]"
   ]
  },
  {
   "cell_type": "code",
   "execution_count": null,
   "metadata": {},
   "outputs": [],
   "source": [
    "# 4개의 경도, 위도 정보 삭제함.\n",
    "TEST = TEST[:, :, :, :10]"
   ]
  },
  {
   "cell_type": "code",
   "execution_count": null,
   "metadata": {},
   "outputs": [],
   "source": [
    "train.shape"
   ]
  },
  {
   "cell_type": "code",
   "execution_count": null,
   "metadata": {},
   "outputs": [],
   "source": [
    "TEST.shape"
   ]
  },
  {
   "cell_type": "code",
   "execution_count": null,
   "metadata": {},
   "outputs": [],
   "source": [
    "from sklearn.model_selection import train_test_split\n",
    "train, test, train_y, test_y = train_test_split(train, train_y, test_size=0.05, random_state=SEED)"
   ]
  },
  {
   "cell_type": "code",
   "execution_count": null,
   "metadata": {},
   "outputs": [],
   "source": [
    "train = np.concatenate([train, train_y], -1)"
   ]
  },
  {
   "cell_type": "code",
   "execution_count": null,
   "metadata": {},
   "outputs": [],
   "source": [
    "%%time\n",
    "\n",
    "train1 = np.rot90(train, 1, (1,2))\n",
    "train2 = np.rot90(train, 2, (1,2))\n",
    "train3 = np.rot90(train, 3, (1,2))\n",
    "train_lr = np.fliplr(train)\n",
    "# train_ud = np.flipud(train)\n",
    "\n",
    "train = np.vstack([train, train1])\n",
    "del train1\n",
    "\n",
    "train = np.vstack([train, train2])\n",
    "del train2\n",
    "\n",
    "train = np.vstack([train, train3])\n",
    "del train3\n",
    "\n",
    "train = np.vstack([train, train_lr])\n",
    "del train_lr\n",
    "\n",
    "# train = np.vstack([train, train_ud])\n",
    "# del train_ud"
   ]
  },
  {
   "cell_type": "code",
   "execution_count": null,
   "metadata": {},
   "outputs": [],
   "source": [
    "train_y = train[:, :, :, -1].copy()\n",
    "train_y = train_y.reshape(train_y.shape[0], train_y.shape[1], train_y.shape[2], 1)"
   ]
  },
  {
   "cell_type": "code",
   "execution_count": null,
   "metadata": {},
   "outputs": [],
   "source": [
    "train = train[:,:,:,:-1]"
   ]
  },
  {
   "cell_type": "code",
   "execution_count": null,
   "metadata": {},
   "outputs": [],
   "source": [
    "from sklearn.model_selection import train_test_split\n",
    "train, test, train_y, test_y = train_test_split(train, train_y, test_size=0.025, random_state=SEED)"
   ]
  },
  {
   "cell_type": "code",
   "execution_count": null,
   "metadata": {},
   "outputs": [],
   "source": [
    "from models import build_model, build_model2\n",
    "from tensorflow.keras.layers import Input, Conv2D, Add, BatchNormalization, concatenate\n",
    "from tensorflow.keras.models import load_model, Model\n",
    "from tensorflow.keras.callbacks import EarlyStopping, ModelCheckpoint, ReduceLROnPlateau, CSVLogger"
   ]
  },
  {
   "cell_type": "code",
   "execution_count": null,
   "metadata": {},
   "outputs": [],
   "source": [
    "def resnet_model():\n",
    "    inputs=Input(train.shape[1:])\n",
    "    \n",
    "    bn=BatchNormalization()(inputs)\n",
    "    conv0=Conv2D(256, kernel_size=1, strides=1, padding='same', activation='relu')(bn)\n",
    "    \n",
    "    bn=BatchNormalization()(conv0)\n",
    "    conv=Conv2D(128, kernel_size=2, strides=1, padding='same', activation='relu')(bn)\n",
    "    concat=concatenate([conv0, conv], axis=3)\n",
    "    \n",
    "    bn=BatchNormalization()(concat)\n",
    "    conv=Conv2D(64, kernel_size=3, strides=1, padding='same', activation='relu')(bn)\n",
    "    concat=concatenate([concat, conv], axis=3)\n",
    "        \n",
    "    for i in range(5):\n",
    "        bn=BatchNormalization()(concat)\n",
    "        conv=Conv2D(32, kernel_size=3, strides=1, padding='same', activation='relu')(bn)\n",
    "        concat=concatenate([concat, conv], axis=3)\n",
    "    \n",
    "    bn=BatchNormalization()(concat)\n",
    "    outputs=Conv2D(1, kernel_size=1, strides=1, padding='same', activation='relu')(bn)\n",
    "    \n",
    "    model=Model(inputs=inputs, outputs=outputs)\n",
    "    \n",
    "    return model"
   ]
  },
  {
   "cell_type": "code",
   "execution_count": null,
   "metadata": {},
   "outputs": [],
   "source": [
    "model = resnet_model()\n",
    "model.compile(loss=\"mae\", optimizer=\"adam\", metrics=[\"mae\"])\n",
    "model.load_weights(f'best_0.h5')"
   ]
  },
  {
   "cell_type": "code",
   "execution_count": null,
   "metadata": {
    "scrolled": true
   },
   "outputs": [],
   "source": [
    "tmp = model.predict(test)\n",
    "maeOverFscore(test_y, np.exp(tmp)-1)"
   ]
  },
  {
   "cell_type": "code",
   "execution_count": null,
   "metadata": {},
   "outputs": [],
   "source": []
  },
  {
   "cell_type": "code",
   "execution_count": null,
   "metadata": {},
   "outputs": [],
   "source": [
    "6.2\n",
    "6.1\n",
    "\n",
    "1.4658718777229207\n",
    "1.4790608"
   ]
  }
 ],
 "metadata": {
  "kernelspec": {
   "display_name": "Python 3",
   "language": "python",
   "name": "python3"
  },
  "language_info": {
   "codemirror_mode": {
    "name": "ipython",
    "version": 3
   },
   "file_extension": ".py",
   "mimetype": "text/x-python",
   "name": "python",
   "nbconvert_exporter": "python",
   "pygments_lexer": "ipython3",
   "version": "3.6.8"
  },
  "toc": {
   "base_numbering": 1,
   "nav_menu": {},
   "number_sections": false,
   "sideBar": true,
   "skip_h1_title": false,
   "title_cell": "Table of Contents",
   "title_sidebar": "Contents",
   "toc_cell": false,
   "toc_position": {
    "height": "calc(100% - 180px)",
    "left": "10px",
    "top": "150px",
    "width": "232px"
   },
   "toc_section_display": true,
   "toc_window_display": false
  }
 },
 "nbformat": 4,
 "nbformat_minor": 4
}
